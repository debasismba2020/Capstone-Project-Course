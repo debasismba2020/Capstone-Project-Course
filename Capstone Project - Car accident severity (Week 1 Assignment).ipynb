{
    "cells": [
        {
            "metadata": {
                "collapsed": true
            },
            "cell_type": "markdown",
            "source": "## Peer-graded Assignment: Capstone Project - Car accident severity (Week 1)"
        },
        {
            "metadata": {},
            "cell_type": "markdown",
            "source": "### 1.\tIntroduction\n#### 1.1.\tBackground\nIn one of our Friday bar trivia, one of my friends had an interesting comment on Road Accident she said, \u201cwhat if there is no road or any vehicle in road then there will be no road accident\u201d. Isn\u2019t a simple solution! well at that time some argued with her, \u201cthis is impossible, we need road and vehicle etc. for doing so and so.\u201d\nBut during Covid19 pandemic and locked down period, I realized it was indeed a reality though not 100% but since travel was stopped and vehicles were grounded number of accidents was nearly null or at least much less compare to before locked down. Isn\u2019t it an intriguing observation then stopping the travel or extending lock down will reduce or stopped road accidents? \n#### 1.2.\tProblem\nI know many of you will not agree with the above paradigm. Well then, we have problem at hand i.e. how do we minimize road accidents or fatalities or severity of it. Would we create a machine learning model to predict accident severity and then use this prediction to solve some of the practical real-life problem? However questions arise how accurate we will be in the prediction, and will prediction stop an accident or why would somone adhere to this prediction. \nWell in that case there is no definite solution or methodology.  Also, it is not a new topic. There are many researches done in past and there are many ongoing and there will be many in future.\nSo not getting into a deep study, I will focus on accident severity and use some of the data science techniques to come up with some observations such as correlation of severity with other features like location, road type, road condition, weather etc.\nOn the second part, I will try to build a machine learning model which can be used to predict accident severity based on related attributes.\n#### 1.3.\tIntrested Parties\nNow, the obvious question is who would be interested in finding accident severity and its prediction accuracy. Honestly speaking, probably some of the Capstone project participant or curious data science follower may be interested to read it.  Nevertheless, my best effort will be to reach out to following audiences by this project. \n1. Tourist and travelers who are self-driving and using rent a car option. They are new to those places and want a beforehand information such as which insurance to choose during booking, or which road to choose or which spot to choose based on accident severity prediction. \n2. Rent a car companies, they will use this research and advise the tourist. Or make recommendation of car type, insurance or accessories etc. for travel.\n3. Insurance companies, they can use this research to come up with new product offering or decide on pricing or claim settlement planning or doing further research.\n4. Government agencies who can use this information to come up with various road safety measures. "
        },
        {
            "metadata": {},
            "cell_type": "markdown",
            "source": "### 2. Data Sources\nI have chosen data available in following public domain.\n\n[Source:](https://data.gov.uk/dataset/road-traffic-accidents)\n\n[Last updated at](https://ckan.publishing.service.gov.uk/dataset) : 2019-12-21\n\nIt has Information on accidents across Leeds in UK from the period 2009 until 2019. Data is available in CSV format. Volume of data is around 30,000. These data include location, number of people and vehicles involved, road surface, weather conditions and severity of any casualties. This dataset has 11 files, including a guidance file which has details about metadata.  Each file is corresponding to a specific year starting from 2009 to 2019.  \nThere is some general comment about this dataset by the owner(Leeds City Council) i.e. some of the location specific data like \u201cEastings\u201d and \u201cNorthing\u201d may not be 100% accurate due to poor internet connectivity.  Also, there are repeated rows for specific columns. Nevertheless, we will deep dive about data and various cleaning process in \u2018Data Cleaning and exploration\u2019 step."
        },
        {
            "metadata": {},
            "cell_type": "code",
            "source": "#Importing Modules\nimport itertools\nimport numpy as np\nimport matplotlib.pyplot as plt\nfrom matplotlib.ticker import NullFormatter\nimport pandas as pd\nimport numpy as np\nimport matplotlib.ticker as ticker\nfrom sklearn import preprocessing\n%matplotlib inline",
            "execution_count": 1,
            "outputs": []
        },
        {
            "metadata": {},
            "cell_type": "code",
            "source": "#importing data\n!wget -O accident_2019.csv https://datamillnorth.org/download/road-traffic-accidents/8e6585f6-e627-4258-b16f-ca3858c0cc67/Traffic%2520accidents_2019_Leeds.csv  \n!wget -O accident_2018.csv https://datamillnorth.org/download/road-traffic-accidents/8c100249-09c5-4aac-91c1-9c7c3656892b/RTC%25202018_Leeds.csv  \n!wget -O accident_2017.csv https://datamillnorth.org/download/road-traffic-accidents/ca7e4598-2677-48f8-be11-13fd57b91640/Leeds_RTC_2017.csv    \n!wget -O accident_2016.csv https://datamillnorth.org/download/road-traffic-accidents/b2c7ebba-312a-4b3d-a324-6a5eda85fa5b/Copy%2520of%2520Leeds_RTC_2016.csv    \n!wget -O accident_2015.csv https://datamillnorth.org/download/road-traffic-accidents/df98a6dd-704e-46a9-9d6d-39d608987cdf/2015.csv\n!wget -O accident_2014.csv https://datamillnorth.org/download/road-traffic-accidents/fa7bb4b9-e4e5-41fd-a1c8-49103b35a60f/2014.csv\n!wget -O accident_2013.csv https://datamillnorth.org/download/road-traffic-accidents/56550461-ea6c-47d7-be61-73339b132547/2013.csv\n!wget -O accident_2012.csv https://datamillnorth.org/download/road-traffic-accidents/6ff5a09b-666a-4420-92ea-b6817b4a0f5c/2012.csv\n!wget -O accident_2011.csv https://datamillnorth.org/download/road-traffic-accidents/9204d06c-8e43-42d3-9ffa-87d806661801/2011.csv\n!wget -O accident_2010.csv https://datamillnorth.org/download/road-traffic-accidents/1ead4f5f-3636-4b8f-830c-7d2cc6f16084/2010.csv\n!wget -O accident_2009.csv https://datamillnorth.org/download/road-traffic-accidents/288d2de3-0227-4ff0-b537-2546b712cf00/2009.csv\n    ",
            "execution_count": null,
            "outputs": []
        },
        {
            "metadata": {
                "scrolled": true
            },
            "cell_type": "code",
            "source": "#read data to dataframe\ndf_2019 = pd.read_csv('accident_2019.csv',encoding='mac_roman')\ndf_2018 = pd.read_csv('accident_2018.csv',encoding='mac_roman')\ndf_2017 = pd.read_csv('accident_2017.csv',encoding='mac_roman')\ndf_2016 = pd.read_csv('accident_2016.csv',encoding='mac_roman')\ndf_2015 = pd.read_csv('accident_2015.csv',encoding='mac_roman')\ndf_2014 = pd.read_csv('accident_2014.csv',encoding='mac_roman')\ndf_2013 = pd.read_csv('accident_2013.csv',encoding='mac_roman')\ndf_2012 = pd.read_csv('accident_2012.csv',encoding='mac_roman')\ndf_2011 = pd.read_csv('accident_2011.csv',encoding='mac_roman')\ndf_2010 = pd.read_csv('accident_2010.csv',encoding='mac_roman')\ndf_2009 = pd.read_csv('accident_2009.csv',encoding='mac_roman')",
            "execution_count": 2,
            "outputs": []
        },
        {
            "metadata": {
                "scrolled": false
            },
            "cell_type": "code",
            "source": "df_2019.head()",
            "execution_count": 3,
            "outputs": [
                {
                    "output_type": "execute_result",
                    "execution_count": 3,
                    "data": {
                        "text/plain": "  Reference Number  Grid Ref: Easting  Grid Ref: Northing  Number of Vehicles  \\\n0          58F1730             436147              434957                   2   \n1          58F1730             436147              434957                   2   \n2          58F1730             436147              434957                   2   \n3          58F1730             436147              434957                   2   \n4          58F1730             436147              434957                   2   \n\n  Accident Date  Time (24hr)  1st Road Class 1st Road Class & No  \\\n0    15/08/2019         1812               3               A6120   \n1    15/08/2019         1812               3               A6120   \n2    15/08/2019         1812               3               A6120   \n3    15/08/2019         1812               3               A6120   \n4    15/08/2019         1812               3               A6120   \n\n   Road Surface  Lighting Conditions  Weather Conditions Local Authority  \\\n0             1                    1                   1       E08000035   \n1             1                    1                   1       E08000035   \n2             1                    1                   1       E08000035   \n3             1                    1                   1       E08000035   \n4             1                    1                   1       E08000035   \n\n   Vehicle Number  Type of Vehicle  Casualty Class  Casualty Severity  \\\n0               2               11               2                  3   \n1               2               11               2                  3   \n2               2               11               2                  3   \n3               2               11               2                  3   \n4               2               11               2                  3   \n\n   Sex of Casualty  Age of Casualty  \n0                2                6  \n1                1                9  \n2                2               39  \n3                1                5  \n4                2                8  ",
                        "text/html": "<div>\n<style scoped>\n    .dataframe tbody tr th:only-of-type {\n        vertical-align: middle;\n    }\n\n    .dataframe tbody tr th {\n        vertical-align: top;\n    }\n\n    .dataframe thead th {\n        text-align: right;\n    }\n</style>\n<table border=\"1\" class=\"dataframe\">\n  <thead>\n    <tr style=\"text-align: right;\">\n      <th></th>\n      <th>Reference Number</th>\n      <th>Grid Ref: Easting</th>\n      <th>Grid Ref: Northing</th>\n      <th>Number of Vehicles</th>\n      <th>Accident Date</th>\n      <th>Time (24hr)</th>\n      <th>1st Road Class</th>\n      <th>1st Road Class &amp; No</th>\n      <th>Road Surface</th>\n      <th>Lighting Conditions</th>\n      <th>Weather Conditions</th>\n      <th>Local Authority</th>\n      <th>Vehicle Number</th>\n      <th>Type of Vehicle</th>\n      <th>Casualty Class</th>\n      <th>Casualty Severity</th>\n      <th>Sex of Casualty</th>\n      <th>Age of Casualty</th>\n    </tr>\n  </thead>\n  <tbody>\n    <tr>\n      <th>0</th>\n      <td>58F1730</td>\n      <td>436147</td>\n      <td>434957</td>\n      <td>2</td>\n      <td>15/08/2019</td>\n      <td>1812</td>\n      <td>3</td>\n      <td>A6120</td>\n      <td>1</td>\n      <td>1</td>\n      <td>1</td>\n      <td>E08000035</td>\n      <td>2</td>\n      <td>11</td>\n      <td>2</td>\n      <td>3</td>\n      <td>2</td>\n      <td>6</td>\n    </tr>\n    <tr>\n      <th>1</th>\n      <td>58F1730</td>\n      <td>436147</td>\n      <td>434957</td>\n      <td>2</td>\n      <td>15/08/2019</td>\n      <td>1812</td>\n      <td>3</td>\n      <td>A6120</td>\n      <td>1</td>\n      <td>1</td>\n      <td>1</td>\n      <td>E08000035</td>\n      <td>2</td>\n      <td>11</td>\n      <td>2</td>\n      <td>3</td>\n      <td>1</td>\n      <td>9</td>\n    </tr>\n    <tr>\n      <th>2</th>\n      <td>58F1730</td>\n      <td>436147</td>\n      <td>434957</td>\n      <td>2</td>\n      <td>15/08/2019</td>\n      <td>1812</td>\n      <td>3</td>\n      <td>A6120</td>\n      <td>1</td>\n      <td>1</td>\n      <td>1</td>\n      <td>E08000035</td>\n      <td>2</td>\n      <td>11</td>\n      <td>2</td>\n      <td>3</td>\n      <td>2</td>\n      <td>39</td>\n    </tr>\n    <tr>\n      <th>3</th>\n      <td>58F1730</td>\n      <td>436147</td>\n      <td>434957</td>\n      <td>2</td>\n      <td>15/08/2019</td>\n      <td>1812</td>\n      <td>3</td>\n      <td>A6120</td>\n      <td>1</td>\n      <td>1</td>\n      <td>1</td>\n      <td>E08000035</td>\n      <td>2</td>\n      <td>11</td>\n      <td>2</td>\n      <td>3</td>\n      <td>1</td>\n      <td>5</td>\n    </tr>\n    <tr>\n      <th>4</th>\n      <td>58F1730</td>\n      <td>436147</td>\n      <td>434957</td>\n      <td>2</td>\n      <td>15/08/2019</td>\n      <td>1812</td>\n      <td>3</td>\n      <td>A6120</td>\n      <td>1</td>\n      <td>1</td>\n      <td>1</td>\n      <td>E08000035</td>\n      <td>2</td>\n      <td>11</td>\n      <td>2</td>\n      <td>3</td>\n      <td>2</td>\n      <td>8</td>\n    </tr>\n  </tbody>\n</table>\n</div>"
                    },
                    "metadata": {}
                }
            ]
        },
        {
            "metadata": {},
            "cell_type": "code",
            "source": "df_2019.info()",
            "execution_count": 4,
            "outputs": [
                {
                    "output_type": "stream",
                    "text": "<class 'pandas.core.frame.DataFrame'>\nRangeIndex: 1907 entries, 0 to 1906\nData columns (total 18 columns):\nReference Number       1907 non-null object\nGrid Ref: Easting      1907 non-null int64\nGrid Ref: Northing     1907 non-null int64\nNumber of Vehicles     1907 non-null int64\nAccident Date          1907 non-null object\nTime (24hr)            1907 non-null int64\n1st Road Class         1907 non-null int64\n1st Road Class & No    1907 non-null object\nRoad Surface           1907 non-null int64\nLighting Conditions    1907 non-null int64\nWeather Conditions     1907 non-null int64\nLocal Authority        1907 non-null object\nVehicle Number         1907 non-null int64\nType of Vehicle        1907 non-null int64\nCasualty Class         1907 non-null int64\nCasualty Severity      1907 non-null int64\nSex of Casualty        1907 non-null int64\nAge of Casualty        1907 non-null int64\ndtypes: int64(14), object(4)\nmemory usage: 268.2+ KB\n",
                    "name": "stdout"
                }
            ]
        }
    ],
    "metadata": {
        "kernelspec": {
            "name": "python3",
            "display_name": "Python 3.6",
            "language": "python"
        },
        "language_info": {
            "name": "python",
            "version": "3.6.9",
            "mimetype": "text/x-python",
            "codemirror_mode": {
                "name": "ipython",
                "version": 3
            },
            "pygments_lexer": "ipython3",
            "nbconvert_exporter": "python",
            "file_extension": ".py"
        }
    },
    "nbformat": 4,
    "nbformat_minor": 1
}