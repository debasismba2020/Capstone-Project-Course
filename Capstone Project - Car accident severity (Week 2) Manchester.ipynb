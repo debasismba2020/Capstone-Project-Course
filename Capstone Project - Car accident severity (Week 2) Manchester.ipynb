{
 "cells": [
  {
   "cell_type": "markdown",
   "metadata": {
    "collapsed": true
   },
   "source": [
    "## Capstone Project - Car accident severity (Greater Manchester)\n",
    "![alt text](https://i2-prod.examinerlive.co.uk/incoming/article8979408.ece/ALTERNATES/s1227b/JS60500612.jpg \"Accident on Leeds\")\n",
    "[Source-examinerlive.co.uk](https://www.examinerlive.co.uk/news/gallery/accident-on-leeds-road-8975504?utm_source=linkCopy&utm_medium=social&utm_campaign=sharebar) "
   ]
  },
  {
   "cell_type": "markdown",
   "metadata": {},
   "source": [
    "### 1.\tIntroduction\n",
    "#### 1.1.\tBackground\n",
    "In one of our Friday bar trivia, one of my friends had an interesting comment on Road Accident she said, “what if there is no road or any vehicle in the road then there will be no road accident”. Isn’t a simple solution! well at that time some argued with her, “this is impossible, we need road and vehicle, etc. for doing so and so.”\n",
    "But during the Covid19 pandemic and locked down period, I realized it was indeed a reality though not 100% but since travel was stopped and vehicles were grounded the number of accidents was nearly null or at least much less compared to before locked down. Isn’t it an intriguing observation then stopping the travel or extending lockdown will reduce or stopped road accidents? \n",
    "#### 1.2.\tProblem\n",
    "I know many of you will not agree with the above paradigm. Well then, we have a problem at hand i.e. how do we minimize road accidents or fatalities or severity of it. Would we create a machine learning model to predict accident severity and then use this prediction to solve some of the practical real-life problems? However, questions arise how accurate we will be in the prediction, and will prediction stop an accident or why would someone adhere to this prediction. \n",
    "Well in that case there is no definite solution or methodology.  Also, it is not a new topic. There are many kinds of research done in past and there are many ongoing and there will be many in the future.\n",
    "So not getting into a deep study, I will focus on accident severity and use some of the data science techniques to come up with some observations such as the correlation of severity with other features like location, road type, road condition, weather, etc.\n",
    "In the second part, I will try to build a machine learning model that can be used to predict accident severity based on related attributes.\n",
    "#### 1.3.\tInterested Parties\n",
    "Now, the obvious question is who would be interested in finding accident severity and its prediction accuracy. Honestly speaking, probably some of the Capstone project participants or curious data science followers may be interested to read it.  Nevertheless, my best effort will be to reach out to the following audiences by this project. \n",
    "1. Tourists and travelers who are self-driving and using a rent a car option. They are new to those places and want beforehand information such as which insurance to choose during booking, or which road to choose or which spot to choose based on accident severity prediction. \n",
    "2. Rent a car company, they will use this research and advise the tourist. Or make a recommendation of car type, insurance or accessories, etc. for travel.\n",
    "3. Insurance companies, they can use this research to come up with new product offering or decide on pricing or claim settlement planning or doing further research.\n",
    "4. Government agencies can use this information to come up with various road safety measures"
   ]
  },
  {
   "cell_type": "markdown",
   "metadata": {},
   "source": [
    "### 2. Data Sources\n",
    "I have chosen data available in the following public domain.\n",
    "\n",
    "[Source](https://data.gov.uk/dataset/gm-road-casualty-accidents-full-stats19-data)\n",
    "\n",
    "It has Information on accidents across Greater Manchester in the UK from the period 2010 until 2019. Data is available in CSV format. The volume of data is around 40,000. These data include many fields such as location, number of people and vehicles involved, road surface, weather conditions, the severity of any casualties, speed limit, etc. There is also a general guidance file which has details about metadata.\n",
    "\n",
    "There is some general comment about this dataset by the owner(Greater Manchester City Council) i.e. some of the location-specific data like “Eastings” and “Northing” may not be 100% accurate due to poor internet connectivity.  Also, there are repeated rows for specific columns. Nevertheless, we will deep dive into data and various cleaning processes in the ‘Data Cleaning and exploration’ step.\n",
    "\n",
    "The __STATS19AccData20102019.csv__ data set includes 27 fields, many of them are self-explanatory. Following are some key fields and the description:\n",
    "\n",
    "| Field                      | Description                                                                          | \n",
    "|----------------------------|--------------------------------------------------------------------------------------|\n",
    "| Accident Severity          | Severity type such as Fatal,Serious,or Light                                         |\n",
    "| Road Class & Number        | UK numbering scheme to classify and identify all roads in Great Britain.             |       \n",
    "| Road or Carriageway Type   | Road type for example- round about,single or dual Carriageway, slip road etc.        |       \n",
    "| Pedestrian Crossing        | Crossing type for example Zebra crossing,Footbridge or subway etc                    |\n",
    "| Special Conditions at Site | Example - Auto traffic signal out,Roadworks ,Oil or diesel resulting accident        |       \n",
    "| Light Conditions           | Example - Daylight,Darkness(no street lighting,light  unlit or lit etc)              |     \n",
    "| Carriageway Hazards        | Example - Dislodged vehicle load in carriageway, animal or human in carriageway etc. |  "
   ]
  },
  {
   "cell_type": "markdown",
   "metadata": {},
   "source": [
    "Lets first load required libraries:"
   ]
  },
  {
   "cell_type": "code",
   "execution_count": 1,
   "metadata": {},
   "outputs": [],
   "source": [
    "#Importing Modules\n",
    "import itertools\n",
    "import numpy as np\n",
    "import matplotlib.pyplot as plt\n",
    "from matplotlib.ticker import NullFormatter\n",
    "import pandas as pd\n",
    "import numpy as np\n",
    "import matplotlib.ticker as ticker\n",
    "import seaborn as sns\n",
    "from sklearn import preprocessing\n",
    "import urllib.request\n",
    "##ML libraries\n",
    "from sklearn import metrics\n",
    "from sklearn.tree import DecisionTreeClassifier \n",
    "from sklearn.linear_model import LogisticRegression \n",
    "from sklearn.neighbors import KNeighborsClassifier\n",
    "from sklearn import svm\n",
    "from sklearn.metrics import jaccard_score \n",
    "from sklearn.metrics import f1_score\n",
    "from sklearn.metrics import log_loss\n",
    "%matplotlib inline"
   ]
  },
  {
   "cell_type": "markdown",
   "metadata": {},
   "source": [
    "#### 2.1. Lets load Data From CSV File  "
   ]
  },
  {
   "cell_type": "code",
   "execution_count": 2,
   "metadata": {},
   "outputs": [
    {
     "data": {
      "text/plain": [
       "('CasData20102019.csv', <http.client.HTTPMessage at 0x291e105fc40>)"
      ]
     },
     "execution_count": 2,
     "metadata": {},
     "output_type": "execute_result"
    }
   ],
   "source": [
    "# Download files from `url` and save it locally under `file_name`:\n",
    "urllib.request.urlretrieve('http://odata.tfgm.com/opendata/downloads/STATS19VehData20102019.csv','VehData20102019.csv')\n",
    "urllib.request.urlretrieve('http://odata.tfgm.com/opendata/downloads/STATS19AccData20102019.csv','AccData20102019.csv')\n",
    "urllib.request.urlretrieve('http://odata.tfgm.com/opendata/downloads/STATS19CasData20102019.csv','CasData20102019.csv')"
   ]
  },
  {
   "cell_type": "code",
   "execution_count": 3,
   "metadata": {
    "scrolled": true
   },
   "outputs": [],
   "source": [
    "#read data to dataframe\n",
    "df_veh = pd.read_csv('VehData20102019.csv',encoding='mac_roman')\n",
    "df_acc = pd.read_csv('AccData20102019.csv',encoding='mac_roman')\n",
    "df_cas = pd.read_csv('CasData20102019.csv',encoding='mac_roman')"
   ]
  },
  {
   "cell_type": "markdown",
   "metadata": {},
   "source": [
    "#### 2.2 Data pre-processing and visualization"
   ]
  },
  {
   "cell_type": "markdown",
   "metadata": {},
   "source": [
    "Let's take a glimpse of the data set."
   ]
  },
  {
   "cell_type": "code",
   "execution_count": 4,
   "metadata": {},
   "outputs": [
    {
     "data": {
      "text/html": [
       "<div>\n",
       "<style scoped>\n",
       "    .dataframe tbody tr th:only-of-type {\n",
       "        vertical-align: middle;\n",
       "    }\n",
       "\n",
       "    .dataframe tbody tr th {\n",
       "        vertical-align: top;\n",
       "    }\n",
       "\n",
       "    .dataframe thead th {\n",
       "        text-align: right;\n",
       "    }\n",
       "</style>\n",
       "<table border=\"1\" class=\"dataframe\">\n",
       "  <thead>\n",
       "    <tr style=\"text-align: right;\">\n",
       "      <th></th>\n",
       "      <th>Accident Index</th>\n",
       "      <th>Year</th>\n",
       "      <th>VehicleReferenceNumber</th>\n",
       "      <th>VehicleType</th>\n",
       "      <th>ArtTowing</th>\n",
       "      <th>Manoeuvre</th>\n",
       "      <th>VehicleLocationOffRoad</th>\n",
       "      <th>JunctionLocation</th>\n",
       "      <th>Skidding</th>\n",
       "      <th>HitObjectOnCWay</th>\n",
       "      <th>VehicleLeaveCWay</th>\n",
       "      <th>HitObjectOffCWay</th>\n",
       "      <th>FirstPointImpact</th>\n",
       "      <th>JourneyPurpose</th>\n",
       "      <th>ForeignReg</th>\n",
       "      <th>SexOfDriver</th>\n",
       "      <th>AgeBandOfDriver</th>\n",
       "    </tr>\n",
       "  </thead>\n",
       "  <tbody>\n",
       "    <tr>\n",
       "      <th>0</th>\n",
       "      <td>1.002600e+11</td>\n",
       "      <td>2010</td>\n",
       "      <td>1</td>\n",
       "      <td>9</td>\n",
       "      <td>0</td>\n",
       "      <td>13</td>\n",
       "      <td>0</td>\n",
       "      <td>0</td>\n",
       "      <td>0</td>\n",
       "      <td>0</td>\n",
       "      <td>0</td>\n",
       "      <td>0</td>\n",
       "      <td>0</td>\n",
       "      <td>5</td>\n",
       "      <td>0</td>\n",
       "      <td>3</td>\n",
       "      <td>7</td>\n",
       "    </tr>\n",
       "    <tr>\n",
       "      <th>1</th>\n",
       "      <td>1.002600e+11</td>\n",
       "      <td>2010</td>\n",
       "      <td>2</td>\n",
       "      <td>17</td>\n",
       "      <td>0</td>\n",
       "      <td>18</td>\n",
       "      <td>0</td>\n",
       "      <td>0</td>\n",
       "      <td>0</td>\n",
       "      <td>0</td>\n",
       "      <td>0</td>\n",
       "      <td>0</td>\n",
       "      <td>0</td>\n",
       "      <td>5</td>\n",
       "      <td>0</td>\n",
       "      <td>3</td>\n",
       "      <td>7</td>\n",
       "    </tr>\n",
       "    <tr>\n",
       "      <th>2</th>\n",
       "      <td>1.002600e+11</td>\n",
       "      <td>2010</td>\n",
       "      <td>3</td>\n",
       "      <td>9</td>\n",
       "      <td>0</td>\n",
       "      <td>18</td>\n",
       "      <td>0</td>\n",
       "      <td>0</td>\n",
       "      <td>1</td>\n",
       "      <td>0</td>\n",
       "      <td>0</td>\n",
       "      <td>0</td>\n",
       "      <td>1</td>\n",
       "      <td>5</td>\n",
       "      <td>0</td>\n",
       "      <td>1</td>\n",
       "      <td>7</td>\n",
       "    </tr>\n",
       "    <tr>\n",
       "      <th>3</th>\n",
       "      <td>1.002600e+11</td>\n",
       "      <td>2010</td>\n",
       "      <td>4</td>\n",
       "      <td>9</td>\n",
       "      <td>0</td>\n",
       "      <td>18</td>\n",
       "      <td>0</td>\n",
       "      <td>0</td>\n",
       "      <td>0</td>\n",
       "      <td>0</td>\n",
       "      <td>0</td>\n",
       "      <td>0</td>\n",
       "      <td>1</td>\n",
       "      <td>5</td>\n",
       "      <td>0</td>\n",
       "      <td>1</td>\n",
       "      <td>6</td>\n",
       "    </tr>\n",
       "    <tr>\n",
       "      <th>4</th>\n",
       "      <td>1.002620e+11</td>\n",
       "      <td>2010</td>\n",
       "      <td>1</td>\n",
       "      <td>9</td>\n",
       "      <td>0</td>\n",
       "      <td>7</td>\n",
       "      <td>0</td>\n",
       "      <td>8</td>\n",
       "      <td>1</td>\n",
       "      <td>7</td>\n",
       "      <td>0</td>\n",
       "      <td>7</td>\n",
       "      <td>1</td>\n",
       "      <td>5</td>\n",
       "      <td>0</td>\n",
       "      <td>1</td>\n",
       "      <td>4</td>\n",
       "    </tr>\n",
       "  </tbody>\n",
       "</table>\n",
       "</div>"
      ],
      "text/plain": [
       "   Accident Index  Year  VehicleReferenceNumber  VehicleType  ArtTowing  \\\n",
       "0    1.002600e+11  2010                       1            9          0   \n",
       "1    1.002600e+11  2010                       2           17          0   \n",
       "2    1.002600e+11  2010                       3            9          0   \n",
       "3    1.002600e+11  2010                       4            9          0   \n",
       "4    1.002620e+11  2010                       1            9          0   \n",
       "\n",
       "   Manoeuvre  VehicleLocationOffRoad  JunctionLocation  Skidding  \\\n",
       "0         13                       0                 0         0   \n",
       "1         18                       0                 0         0   \n",
       "2         18                       0                 0         1   \n",
       "3         18                       0                 0         0   \n",
       "4          7                       0                 8         1   \n",
       "\n",
       "   HitObjectOnCWay  VehicleLeaveCWay  HitObjectOffCWay  FirstPointImpact  \\\n",
       "0                0                 0                 0                 0   \n",
       "1                0                 0                 0                 0   \n",
       "2                0                 0                 0                 1   \n",
       "3                0                 0                 0                 1   \n",
       "4                7                 0                 7                 1   \n",
       "\n",
       "   JourneyPurpose  ForeignReg  SexOfDriver  AgeBandOfDriver  \n",
       "0               5           0            3                7  \n",
       "1               5           0            3                7  \n",
       "2               5           0            1                7  \n",
       "3               5           0            1                6  \n",
       "4               5           0            1                4  "
      ]
     },
     "execution_count": 4,
     "metadata": {},
     "output_type": "execute_result"
    }
   ],
   "source": [
    "#print Vechile data\n",
    "df_veh.head()"
   ]
  },
  {
   "cell_type": "code",
   "execution_count": 5,
   "metadata": {},
   "outputs": [],
   "source": [
    "#let's convert Accident Index field to string format for matching\n",
    "df_veh['Accident Index'] = df_veh['Accident Index'].apply(lambda x: '%.12f' % x)\n",
    "df_veh['Accident Index'] =df_veh['Accident Index'].str[0:12]"
   ]
  },
  {
   "cell_type": "code",
   "execution_count": 6,
   "metadata": {},
   "outputs": [
    {
     "data": {
      "text/html": [
       "<div>\n",
       "<style scoped>\n",
       "    .dataframe tbody tr th:only-of-type {\n",
       "        vertical-align: middle;\n",
       "    }\n",
       "\n",
       "    .dataframe tbody tr th {\n",
       "        vertical-align: top;\n",
       "    }\n",
       "\n",
       "    .dataframe thead th {\n",
       "        text-align: right;\n",
       "    }\n",
       "</style>\n",
       "<table border=\"1\" class=\"dataframe\">\n",
       "  <thead>\n",
       "    <tr style=\"text-align: right;\">\n",
       "      <th></th>\n",
       "      <th>Accident Index</th>\n",
       "      <th>Year</th>\n",
       "      <th>VehicleReferenceNumber</th>\n",
       "      <th>VehicleType</th>\n",
       "      <th>ArtTowing</th>\n",
       "      <th>Manoeuvre</th>\n",
       "      <th>VehicleLocationOffRoad</th>\n",
       "      <th>JunctionLocation</th>\n",
       "      <th>Skidding</th>\n",
       "      <th>HitObjectOnCWay</th>\n",
       "      <th>VehicleLeaveCWay</th>\n",
       "      <th>HitObjectOffCWay</th>\n",
       "      <th>FirstPointImpact</th>\n",
       "      <th>JourneyPurpose</th>\n",
       "      <th>ForeignReg</th>\n",
       "      <th>SexOfDriver</th>\n",
       "      <th>AgeBandOfDriver</th>\n",
       "    </tr>\n",
       "  </thead>\n",
       "  <tbody>\n",
       "    <tr>\n",
       "      <th>0</th>\n",
       "      <td>100260000000</td>\n",
       "      <td>2010</td>\n",
       "      <td>1</td>\n",
       "      <td>9</td>\n",
       "      <td>0</td>\n",
       "      <td>13</td>\n",
       "      <td>0</td>\n",
       "      <td>0</td>\n",
       "      <td>0</td>\n",
       "      <td>0</td>\n",
       "      <td>0</td>\n",
       "      <td>0</td>\n",
       "      <td>0</td>\n",
       "      <td>5</td>\n",
       "      <td>0</td>\n",
       "      <td>3</td>\n",
       "      <td>7</td>\n",
       "    </tr>\n",
       "    <tr>\n",
       "      <th>1</th>\n",
       "      <td>100260000000</td>\n",
       "      <td>2010</td>\n",
       "      <td>2</td>\n",
       "      <td>17</td>\n",
       "      <td>0</td>\n",
       "      <td>18</td>\n",
       "      <td>0</td>\n",
       "      <td>0</td>\n",
       "      <td>0</td>\n",
       "      <td>0</td>\n",
       "      <td>0</td>\n",
       "      <td>0</td>\n",
       "      <td>0</td>\n",
       "      <td>5</td>\n",
       "      <td>0</td>\n",
       "      <td>3</td>\n",
       "      <td>7</td>\n",
       "    </tr>\n",
       "    <tr>\n",
       "      <th>2</th>\n",
       "      <td>100260000000</td>\n",
       "      <td>2010</td>\n",
       "      <td>3</td>\n",
       "      <td>9</td>\n",
       "      <td>0</td>\n",
       "      <td>18</td>\n",
       "      <td>0</td>\n",
       "      <td>0</td>\n",
       "      <td>1</td>\n",
       "      <td>0</td>\n",
       "      <td>0</td>\n",
       "      <td>0</td>\n",
       "      <td>1</td>\n",
       "      <td>5</td>\n",
       "      <td>0</td>\n",
       "      <td>1</td>\n",
       "      <td>7</td>\n",
       "    </tr>\n",
       "    <tr>\n",
       "      <th>3</th>\n",
       "      <td>100260000000</td>\n",
       "      <td>2010</td>\n",
       "      <td>4</td>\n",
       "      <td>9</td>\n",
       "      <td>0</td>\n",
       "      <td>18</td>\n",
       "      <td>0</td>\n",
       "      <td>0</td>\n",
       "      <td>0</td>\n",
       "      <td>0</td>\n",
       "      <td>0</td>\n",
       "      <td>0</td>\n",
       "      <td>1</td>\n",
       "      <td>5</td>\n",
       "      <td>0</td>\n",
       "      <td>1</td>\n",
       "      <td>6</td>\n",
       "    </tr>\n",
       "    <tr>\n",
       "      <th>4</th>\n",
       "      <td>100262000000</td>\n",
       "      <td>2010</td>\n",
       "      <td>1</td>\n",
       "      <td>9</td>\n",
       "      <td>0</td>\n",
       "      <td>7</td>\n",
       "      <td>0</td>\n",
       "      <td>8</td>\n",
       "      <td>1</td>\n",
       "      <td>7</td>\n",
       "      <td>0</td>\n",
       "      <td>7</td>\n",
       "      <td>1</td>\n",
       "      <td>5</td>\n",
       "      <td>0</td>\n",
       "      <td>1</td>\n",
       "      <td>4</td>\n",
       "    </tr>\n",
       "  </tbody>\n",
       "</table>\n",
       "</div>"
      ],
      "text/plain": [
       "  Accident Index  Year  VehicleReferenceNumber  VehicleType  ArtTowing  \\\n",
       "0   100260000000  2010                       1            9          0   \n",
       "1   100260000000  2010                       2           17          0   \n",
       "2   100260000000  2010                       3            9          0   \n",
       "3   100260000000  2010                       4            9          0   \n",
       "4   100262000000  2010                       1            9          0   \n",
       "\n",
       "   Manoeuvre  VehicleLocationOffRoad  JunctionLocation  Skidding  \\\n",
       "0         13                       0                 0         0   \n",
       "1         18                       0                 0         0   \n",
       "2         18                       0                 0         1   \n",
       "3         18                       0                 0         0   \n",
       "4          7                       0                 8         1   \n",
       "\n",
       "   HitObjectOnCWay  VehicleLeaveCWay  HitObjectOffCWay  FirstPointImpact  \\\n",
       "0                0                 0                 0                 0   \n",
       "1                0                 0                 0                 0   \n",
       "2                0                 0                 0                 1   \n",
       "3                0                 0                 0                 1   \n",
       "4                7                 0                 7                 1   \n",
       "\n",
       "   JourneyPurpose  ForeignReg  SexOfDriver  AgeBandOfDriver  \n",
       "0               5           0            3                7  \n",
       "1               5           0            3                7  \n",
       "2               5           0            1                7  \n",
       "3               5           0            1                6  \n",
       "4               5           0            1                4  "
      ]
     },
     "execution_count": 6,
     "metadata": {},
     "output_type": "execute_result"
    }
   ],
   "source": [
    "df_veh.head()"
   ]
  },
  {
   "cell_type": "code",
   "execution_count": 7,
   "metadata": {
    "scrolled": true
   },
   "outputs": [
    {
     "data": {
      "text/html": [
       "<div>\n",
       "<style scoped>\n",
       "    .dataframe tbody tr th:only-of-type {\n",
       "        vertical-align: middle;\n",
       "    }\n",
       "\n",
       "    .dataframe tbody tr th {\n",
       "        vertical-align: top;\n",
       "    }\n",
       "\n",
       "    .dataframe thead th {\n",
       "        text-align: right;\n",
       "    }\n",
       "</style>\n",
       "<table border=\"1\" class=\"dataframe\">\n",
       "  <thead>\n",
       "    <tr style=\"text-align: right;\">\n",
       "      <th></th>\n",
       "      <th>Accident Index</th>\n",
       "      <th>Year</th>\n",
       "      <th>VehicleReferenceNumber</th>\n",
       "      <th>CasualtyNumber</th>\n",
       "      <th>CasualtyClass</th>\n",
       "      <th>Sex</th>\n",
       "      <th>AgeBandOfCasualty</th>\n",
       "      <th>CasualtySeverity</th>\n",
       "      <th>PedLocation</th>\n",
       "      <th>PedMovement</th>\n",
       "      <th>CarPassenger</th>\n",
       "      <th>BusPassenger</th>\n",
       "      <th>PedInjWork</th>\n",
       "      <th>CasTypeCode</th>\n",
       "    </tr>\n",
       "  </thead>\n",
       "  <tbody>\n",
       "    <tr>\n",
       "      <th>0</th>\n",
       "      <td>1.002600e+11</td>\n",
       "      <td>2010</td>\n",
       "      <td>3</td>\n",
       "      <td>1</td>\n",
       "      <td>1</td>\n",
       "      <td>1</td>\n",
       "      <td>7</td>\n",
       "      <td>3</td>\n",
       "      <td>0</td>\n",
       "      <td>0</td>\n",
       "      <td>0</td>\n",
       "      <td>0</td>\n",
       "      <td>0</td>\n",
       "      <td>9</td>\n",
       "    </tr>\n",
       "    <tr>\n",
       "      <th>1</th>\n",
       "      <td>1.002600e+11</td>\n",
       "      <td>2010</td>\n",
       "      <td>4</td>\n",
       "      <td>2</td>\n",
       "      <td>1</td>\n",
       "      <td>1</td>\n",
       "      <td>6</td>\n",
       "      <td>3</td>\n",
       "      <td>0</td>\n",
       "      <td>0</td>\n",
       "      <td>0</td>\n",
       "      <td>0</td>\n",
       "      <td>0</td>\n",
       "      <td>9</td>\n",
       "    </tr>\n",
       "    <tr>\n",
       "      <th>2</th>\n",
       "      <td>1.002600e+11</td>\n",
       "      <td>2010</td>\n",
       "      <td>4</td>\n",
       "      <td>3</td>\n",
       "      <td>2</td>\n",
       "      <td>1</td>\n",
       "      <td>2</td>\n",
       "      <td>3</td>\n",
       "      <td>0</td>\n",
       "      <td>0</td>\n",
       "      <td>2</td>\n",
       "      <td>0</td>\n",
       "      <td>0</td>\n",
       "      <td>9</td>\n",
       "    </tr>\n",
       "    <tr>\n",
       "      <th>3</th>\n",
       "      <td>1.002600e+11</td>\n",
       "      <td>2010</td>\n",
       "      <td>4</td>\n",
       "      <td>4</td>\n",
       "      <td>2</td>\n",
       "      <td>2</td>\n",
       "      <td>1</td>\n",
       "      <td>3</td>\n",
       "      <td>0</td>\n",
       "      <td>0</td>\n",
       "      <td>2</td>\n",
       "      <td>0</td>\n",
       "      <td>0</td>\n",
       "      <td>9</td>\n",
       "    </tr>\n",
       "    <tr>\n",
       "      <th>4</th>\n",
       "      <td>1.002620e+11</td>\n",
       "      <td>2010</td>\n",
       "      <td>1</td>\n",
       "      <td>1</td>\n",
       "      <td>1</td>\n",
       "      <td>1</td>\n",
       "      <td>4</td>\n",
       "      <td>3</td>\n",
       "      <td>0</td>\n",
       "      <td>0</td>\n",
       "      <td>0</td>\n",
       "      <td>0</td>\n",
       "      <td>0</td>\n",
       "      <td>9</td>\n",
       "    </tr>\n",
       "  </tbody>\n",
       "</table>\n",
       "</div>"
      ],
      "text/plain": [
       "   Accident Index  Year  VehicleReferenceNumber  CasualtyNumber  \\\n",
       "0    1.002600e+11  2010                       3               1   \n",
       "1    1.002600e+11  2010                       4               2   \n",
       "2    1.002600e+11  2010                       4               3   \n",
       "3    1.002600e+11  2010                       4               4   \n",
       "4    1.002620e+11  2010                       1               1   \n",
       "\n",
       "   CasualtyClass  Sex  AgeBandOfCasualty  CasualtySeverity  PedLocation  \\\n",
       "0              1    1                  7                 3            0   \n",
       "1              1    1                  6                 3            0   \n",
       "2              2    1                  2                 3            0   \n",
       "3              2    2                  1                 3            0   \n",
       "4              1    1                  4                 3            0   \n",
       "\n",
       "   PedMovement  CarPassenger  BusPassenger  PedInjWork  CasTypeCode  \n",
       "0            0             0             0           0            9  \n",
       "1            0             0             0           0            9  \n",
       "2            0             2             0           0            9  \n",
       "3            0             2             0           0            9  \n",
       "4            0             0             0           0            9  "
      ]
     },
     "execution_count": 7,
     "metadata": {},
     "output_type": "execute_result"
    }
   ],
   "source": [
    "#print casuality dta\n",
    "df_cas.head()"
   ]
  },
  {
   "cell_type": "code",
   "execution_count": 8,
   "metadata": {},
   "outputs": [],
   "source": [
    "#let's convert Accident Index field to string format for join\n",
    "df_cas['Accident Index'] = df_cas['Accident Index'].apply(lambda x: '%.12f' % x)\n",
    "df_cas['Accident Index'] =df_cas['Accident Index'].str[0:12]"
   ]
  },
  {
   "cell_type": "code",
   "execution_count": 9,
   "metadata": {},
   "outputs": [
    {
     "data": {
      "text/html": [
       "<div>\n",
       "<style scoped>\n",
       "    .dataframe tbody tr th:only-of-type {\n",
       "        vertical-align: middle;\n",
       "    }\n",
       "\n",
       "    .dataframe tbody tr th {\n",
       "        vertical-align: top;\n",
       "    }\n",
       "\n",
       "    .dataframe thead th {\n",
       "        text-align: right;\n",
       "    }\n",
       "</style>\n",
       "<table border=\"1\" class=\"dataframe\">\n",
       "  <thead>\n",
       "    <tr style=\"text-align: right;\">\n",
       "      <th></th>\n",
       "      <th>Accident Index</th>\n",
       "      <th>Year</th>\n",
       "      <th>VehicleReferenceNumber</th>\n",
       "      <th>CasualtyNumber</th>\n",
       "      <th>CasualtyClass</th>\n",
       "      <th>Sex</th>\n",
       "      <th>AgeBandOfCasualty</th>\n",
       "      <th>CasualtySeverity</th>\n",
       "      <th>PedLocation</th>\n",
       "      <th>PedMovement</th>\n",
       "      <th>CarPassenger</th>\n",
       "      <th>BusPassenger</th>\n",
       "      <th>PedInjWork</th>\n",
       "      <th>CasTypeCode</th>\n",
       "    </tr>\n",
       "  </thead>\n",
       "  <tbody>\n",
       "    <tr>\n",
       "      <th>0</th>\n",
       "      <td>100260000000</td>\n",
       "      <td>2010</td>\n",
       "      <td>3</td>\n",
       "      <td>1</td>\n",
       "      <td>1</td>\n",
       "      <td>1</td>\n",
       "      <td>7</td>\n",
       "      <td>3</td>\n",
       "      <td>0</td>\n",
       "      <td>0</td>\n",
       "      <td>0</td>\n",
       "      <td>0</td>\n",
       "      <td>0</td>\n",
       "      <td>9</td>\n",
       "    </tr>\n",
       "    <tr>\n",
       "      <th>1</th>\n",
       "      <td>100260000000</td>\n",
       "      <td>2010</td>\n",
       "      <td>4</td>\n",
       "      <td>2</td>\n",
       "      <td>1</td>\n",
       "      <td>1</td>\n",
       "      <td>6</td>\n",
       "      <td>3</td>\n",
       "      <td>0</td>\n",
       "      <td>0</td>\n",
       "      <td>0</td>\n",
       "      <td>0</td>\n",
       "      <td>0</td>\n",
       "      <td>9</td>\n",
       "    </tr>\n",
       "    <tr>\n",
       "      <th>2</th>\n",
       "      <td>100260000000</td>\n",
       "      <td>2010</td>\n",
       "      <td>4</td>\n",
       "      <td>3</td>\n",
       "      <td>2</td>\n",
       "      <td>1</td>\n",
       "      <td>2</td>\n",
       "      <td>3</td>\n",
       "      <td>0</td>\n",
       "      <td>0</td>\n",
       "      <td>2</td>\n",
       "      <td>0</td>\n",
       "      <td>0</td>\n",
       "      <td>9</td>\n",
       "    </tr>\n",
       "    <tr>\n",
       "      <th>3</th>\n",
       "      <td>100260000000</td>\n",
       "      <td>2010</td>\n",
       "      <td>4</td>\n",
       "      <td>4</td>\n",
       "      <td>2</td>\n",
       "      <td>2</td>\n",
       "      <td>1</td>\n",
       "      <td>3</td>\n",
       "      <td>0</td>\n",
       "      <td>0</td>\n",
       "      <td>2</td>\n",
       "      <td>0</td>\n",
       "      <td>0</td>\n",
       "      <td>9</td>\n",
       "    </tr>\n",
       "    <tr>\n",
       "      <th>4</th>\n",
       "      <td>100262000000</td>\n",
       "      <td>2010</td>\n",
       "      <td>1</td>\n",
       "      <td>1</td>\n",
       "      <td>1</td>\n",
       "      <td>1</td>\n",
       "      <td>4</td>\n",
       "      <td>3</td>\n",
       "      <td>0</td>\n",
       "      <td>0</td>\n",
       "      <td>0</td>\n",
       "      <td>0</td>\n",
       "      <td>0</td>\n",
       "      <td>9</td>\n",
       "    </tr>\n",
       "  </tbody>\n",
       "</table>\n",
       "</div>"
      ],
      "text/plain": [
       "  Accident Index  Year  VehicleReferenceNumber  CasualtyNumber  CasualtyClass  \\\n",
       "0   100260000000  2010                       3               1              1   \n",
       "1   100260000000  2010                       4               2              1   \n",
       "2   100260000000  2010                       4               3              2   \n",
       "3   100260000000  2010                       4               4              2   \n",
       "4   100262000000  2010                       1               1              1   \n",
       "\n",
       "   Sex  AgeBandOfCasualty  CasualtySeverity  PedLocation  PedMovement  \\\n",
       "0    1                  7                 3            0            0   \n",
       "1    1                  6                 3            0            0   \n",
       "2    1                  2                 3            0            0   \n",
       "3    2                  1                 3            0            0   \n",
       "4    1                  4                 3            0            0   \n",
       "\n",
       "   CarPassenger  BusPassenger  PedInjWork  CasTypeCode  \n",
       "0             0             0           0            9  \n",
       "1             0             0           0            9  \n",
       "2             2             0           0            9  \n",
       "3             2             0           0            9  \n",
       "4             0             0           0            9  "
      ]
     },
     "execution_count": 9,
     "metadata": {},
     "output_type": "execute_result"
    }
   ],
   "source": [
    "#let's check data after convertion\n",
    "df_cas.head()"
   ]
  },
  {
   "cell_type": "code",
   "execution_count": 10,
   "metadata": {},
   "outputs": [
    {
     "data": {
      "text/html": [
       "<div>\n",
       "<style scoped>\n",
       "    .dataframe tbody tr th:only-of-type {\n",
       "        vertical-align: middle;\n",
       "    }\n",
       "\n",
       "    .dataframe tbody tr th {\n",
       "        vertical-align: top;\n",
       "    }\n",
       "\n",
       "    .dataframe thead th {\n",
       "        text-align: right;\n",
       "    }\n",
       "</style>\n",
       "<table border=\"1\" class=\"dataframe\">\n",
       "  <thead>\n",
       "    <tr style=\"text-align: right;\">\n",
       "      <th></th>\n",
       "      <th>Accident Index</th>\n",
       "      <th>Year</th>\n",
       "      <th>Severity</th>\n",
       "      <th>NumberVehicles</th>\n",
       "      <th>NumberCasualties</th>\n",
       "      <th>OutputDate</th>\n",
       "      <th>Day</th>\n",
       "      <th>OutputTime</th>\n",
       "      <th>Easting</th>\n",
       "      <th>Northing</th>\n",
       "      <th>...</th>\n",
       "      <th>Road2Class</th>\n",
       "      <th>Road2Number</th>\n",
       "      <th>PedCrossingHumanControl</th>\n",
       "      <th>PedCrossingPhysicalFacilities</th>\n",
       "      <th>LightingCondition</th>\n",
       "      <th>WeatherCondition</th>\n",
       "      <th>RoadSurface</th>\n",
       "      <th>SpecialConditions</th>\n",
       "      <th>CarriagewayHazard</th>\n",
       "      <th>PlaceReported</th>\n",
       "    </tr>\n",
       "  </thead>\n",
       "  <tbody>\n",
       "    <tr>\n",
       "      <th>0</th>\n",
       "      <td>102262412010</td>\n",
       "      <td>2010</td>\n",
       "      <td>3</td>\n",
       "      <td>2</td>\n",
       "      <td>1</td>\n",
       "      <td>01/01/2010</td>\n",
       "      <td>6</td>\n",
       "      <td>13:10</td>\n",
       "      <td>382347</td>\n",
       "      <td>390025</td>\n",
       "      <td>...</td>\n",
       "      <td>3</td>\n",
       "      <td>5103</td>\n",
       "      <td>0</td>\n",
       "      <td>0</td>\n",
       "      <td>1</td>\n",
       "      <td>1</td>\n",
       "      <td>4</td>\n",
       "      <td>0</td>\n",
       "      <td>0</td>\n",
       "      <td>1</td>\n",
       "    </tr>\n",
       "    <tr>\n",
       "      <th>1</th>\n",
       "      <td>102262562010</td>\n",
       "      <td>2010</td>\n",
       "      <td>3</td>\n",
       "      <td>2</td>\n",
       "      <td>1</td>\n",
       "      <td>01/01/2010</td>\n",
       "      <td>6</td>\n",
       "      <td>11:10</td>\n",
       "      <td>381892</td>\n",
       "      <td>390582</td>\n",
       "      <td>...</td>\n",
       "      <td>7</td>\n",
       "      <td>0</td>\n",
       "      <td>0</td>\n",
       "      <td>0</td>\n",
       "      <td>1</td>\n",
       "      <td>1</td>\n",
       "      <td>4</td>\n",
       "      <td>0</td>\n",
       "      <td>0</td>\n",
       "      <td>1</td>\n",
       "    </tr>\n",
       "    <tr>\n",
       "      <th>2</th>\n",
       "      <td>102264322010</td>\n",
       "      <td>2010</td>\n",
       "      <td>3</td>\n",
       "      <td>2</td>\n",
       "      <td>1</td>\n",
       "      <td>01/01/2010</td>\n",
       "      <td>6</td>\n",
       "      <td>17:30</td>\n",
       "      <td>385840</td>\n",
       "      <td>403134</td>\n",
       "      <td>...</td>\n",
       "      <td>7</td>\n",
       "      <td>0</td>\n",
       "      <td>0</td>\n",
       "      <td>0</td>\n",
       "      <td>4</td>\n",
       "      <td>1</td>\n",
       "      <td>2</td>\n",
       "      <td>0</td>\n",
       "      <td>0</td>\n",
       "      <td>2</td>\n",
       "    </tr>\n",
       "    <tr>\n",
       "      <th>3</th>\n",
       "      <td>107264182010</td>\n",
       "      <td>2010</td>\n",
       "      <td>3</td>\n",
       "      <td>3</td>\n",
       "      <td>1</td>\n",
       "      <td>01/01/2010</td>\n",
       "      <td>6</td>\n",
       "      <td>13:49</td>\n",
       "      <td>377762</td>\n",
       "      <td>403302</td>\n",
       "      <td>...</td>\n",
       "      <td>1</td>\n",
       "      <td>60</td>\n",
       "      <td>0</td>\n",
       "      <td>0</td>\n",
       "      <td>3</td>\n",
       "      <td>9</td>\n",
       "      <td>1</td>\n",
       "      <td>0</td>\n",
       "      <td>0</td>\n",
       "      <td>2</td>\n",
       "    </tr>\n",
       "    <tr>\n",
       "      <th>4</th>\n",
       "      <td>114261842010</td>\n",
       "      <td>2010</td>\n",
       "      <td>3</td>\n",
       "      <td>1</td>\n",
       "      <td>1</td>\n",
       "      <td>01/01/2010</td>\n",
       "      <td>6</td>\n",
       "      <td>01:55</td>\n",
       "      <td>355982</td>\n",
       "      <td>404620</td>\n",
       "      <td>...</td>\n",
       "      <td>0</td>\n",
       "      <td>0</td>\n",
       "      <td>0</td>\n",
       "      <td>0</td>\n",
       "      <td>7</td>\n",
       "      <td>9</td>\n",
       "      <td>1</td>\n",
       "      <td>0</td>\n",
       "      <td>0</td>\n",
       "      <td>2</td>\n",
       "    </tr>\n",
       "  </tbody>\n",
       "</table>\n",
       "<p>5 rows × 27 columns</p>\n",
       "</div>"
      ],
      "text/plain": [
       "   Accident Index  Year  Severity  NumberVehicles  NumberCasualties  \\\n",
       "0    102262412010  2010         3               2                 1   \n",
       "1    102262562010  2010         3               2                 1   \n",
       "2    102264322010  2010         3               2                 1   \n",
       "3    107264182010  2010         3               3                 1   \n",
       "4    114261842010  2010         3               1                 1   \n",
       "\n",
       "   OutputDate  Day OutputTime  Easting  Northing  ...  Road2Class  \\\n",
       "0  01/01/2010    6      13:10   382347    390025  ...           3   \n",
       "1  01/01/2010    6      11:10   381892    390582  ...           7   \n",
       "2  01/01/2010    6      17:30   385840    403134  ...           7   \n",
       "3  01/01/2010    6      13:49   377762    403302  ...           1   \n",
       "4  01/01/2010    6      01:55   355982    404620  ...           0   \n",
       "\n",
       "   Road2Number  PedCrossingHumanControl  PedCrossingPhysicalFacilities  \\\n",
       "0         5103                        0                              0   \n",
       "1            0                        0                              0   \n",
       "2            0                        0                              0   \n",
       "3           60                        0                              0   \n",
       "4            0                        0                              0   \n",
       "\n",
       "   LightingCondition  WeatherCondition  RoadSurface  SpecialConditions  \\\n",
       "0                  1                 1            4                  0   \n",
       "1                  1                 1            4                  0   \n",
       "2                  4                 1            2                  0   \n",
       "3                  3                 9            1                  0   \n",
       "4                  7                 9            1                  0   \n",
       "\n",
       "   CarriagewayHazard  PlaceReported  \n",
       "0                  0              1  \n",
       "1                  0              1  \n",
       "2                  0              2  \n",
       "3                  0              2  \n",
       "4                  0              2  \n",
       "\n",
       "[5 rows x 27 columns]"
      ]
     },
     "execution_count": 10,
     "metadata": {},
     "output_type": "execute_result"
    }
   ],
   "source": [
    "#print accident data\n",
    "df_acc.head()"
   ]
  },
  {
   "cell_type": "code",
   "execution_count": 11,
   "metadata": {},
   "outputs": [
    {
     "data": {
      "text/html": [
       "<div>\n",
       "<style scoped>\n",
       "    .dataframe tbody tr th:only-of-type {\n",
       "        vertical-align: middle;\n",
       "    }\n",
       "\n",
       "    .dataframe tbody tr th {\n",
       "        vertical-align: top;\n",
       "    }\n",
       "\n",
       "    .dataframe thead th {\n",
       "        text-align: right;\n",
       "    }\n",
       "</style>\n",
       "<table border=\"1\" class=\"dataframe\">\n",
       "  <thead>\n",
       "    <tr style=\"text-align: right;\">\n",
       "      <th></th>\n",
       "      <th>Accident Index</th>\n",
       "      <th>Year</th>\n",
       "      <th>Severity</th>\n",
       "      <th>NumberVehicles</th>\n",
       "      <th>NumberCasualties</th>\n",
       "      <th>OutputDate</th>\n",
       "      <th>Day</th>\n",
       "      <th>OutputTime</th>\n",
       "      <th>Easting</th>\n",
       "      <th>Northing</th>\n",
       "      <th>...</th>\n",
       "      <th>PedCrossingPhysicalFacilities</th>\n",
       "      <th>LightingCondition</th>\n",
       "      <th>WeatherCondition</th>\n",
       "      <th>RoadSurface</th>\n",
       "      <th>SpecialConditions</th>\n",
       "      <th>CarriagewayHazard</th>\n",
       "      <th>PlaceReported</th>\n",
       "      <th>Month</th>\n",
       "      <th>MonthName</th>\n",
       "      <th>DayName</th>\n",
       "    </tr>\n",
       "  </thead>\n",
       "  <tbody>\n",
       "    <tr>\n",
       "      <th>0</th>\n",
       "      <td>102262412010</td>\n",
       "      <td>2010</td>\n",
       "      <td>3</td>\n",
       "      <td>2</td>\n",
       "      <td>1</td>\n",
       "      <td>01/01/2010</td>\n",
       "      <td>6</td>\n",
       "      <td>13:10</td>\n",
       "      <td>382347</td>\n",
       "      <td>390025</td>\n",
       "      <td>...</td>\n",
       "      <td>0</td>\n",
       "      <td>1</td>\n",
       "      <td>1</td>\n",
       "      <td>4</td>\n",
       "      <td>0</td>\n",
       "      <td>0</td>\n",
       "      <td>1</td>\n",
       "      <td>1</td>\n",
       "      <td>January</td>\n",
       "      <td>Friday</td>\n",
       "    </tr>\n",
       "    <tr>\n",
       "      <th>1</th>\n",
       "      <td>102262562010</td>\n",
       "      <td>2010</td>\n",
       "      <td>3</td>\n",
       "      <td>2</td>\n",
       "      <td>1</td>\n",
       "      <td>01/01/2010</td>\n",
       "      <td>6</td>\n",
       "      <td>11:10</td>\n",
       "      <td>381892</td>\n",
       "      <td>390582</td>\n",
       "      <td>...</td>\n",
       "      <td>0</td>\n",
       "      <td>1</td>\n",
       "      <td>1</td>\n",
       "      <td>4</td>\n",
       "      <td>0</td>\n",
       "      <td>0</td>\n",
       "      <td>1</td>\n",
       "      <td>1</td>\n",
       "      <td>January</td>\n",
       "      <td>Friday</td>\n",
       "    </tr>\n",
       "    <tr>\n",
       "      <th>2</th>\n",
       "      <td>102264322010</td>\n",
       "      <td>2010</td>\n",
       "      <td>3</td>\n",
       "      <td>2</td>\n",
       "      <td>1</td>\n",
       "      <td>01/01/2010</td>\n",
       "      <td>6</td>\n",
       "      <td>17:30</td>\n",
       "      <td>385840</td>\n",
       "      <td>403134</td>\n",
       "      <td>...</td>\n",
       "      <td>0</td>\n",
       "      <td>4</td>\n",
       "      <td>1</td>\n",
       "      <td>2</td>\n",
       "      <td>0</td>\n",
       "      <td>0</td>\n",
       "      <td>2</td>\n",
       "      <td>1</td>\n",
       "      <td>January</td>\n",
       "      <td>Friday</td>\n",
       "    </tr>\n",
       "    <tr>\n",
       "      <th>3</th>\n",
       "      <td>107264182010</td>\n",
       "      <td>2010</td>\n",
       "      <td>3</td>\n",
       "      <td>3</td>\n",
       "      <td>1</td>\n",
       "      <td>01/01/2010</td>\n",
       "      <td>6</td>\n",
       "      <td>13:49</td>\n",
       "      <td>377762</td>\n",
       "      <td>403302</td>\n",
       "      <td>...</td>\n",
       "      <td>0</td>\n",
       "      <td>3</td>\n",
       "      <td>9</td>\n",
       "      <td>1</td>\n",
       "      <td>0</td>\n",
       "      <td>0</td>\n",
       "      <td>2</td>\n",
       "      <td>1</td>\n",
       "      <td>January</td>\n",
       "      <td>Friday</td>\n",
       "    </tr>\n",
       "    <tr>\n",
       "      <th>4</th>\n",
       "      <td>114261842010</td>\n",
       "      <td>2010</td>\n",
       "      <td>3</td>\n",
       "      <td>1</td>\n",
       "      <td>1</td>\n",
       "      <td>01/01/2010</td>\n",
       "      <td>6</td>\n",
       "      <td>01:55</td>\n",
       "      <td>355982</td>\n",
       "      <td>404620</td>\n",
       "      <td>...</td>\n",
       "      <td>0</td>\n",
       "      <td>7</td>\n",
       "      <td>9</td>\n",
       "      <td>1</td>\n",
       "      <td>0</td>\n",
       "      <td>0</td>\n",
       "      <td>2</td>\n",
       "      <td>1</td>\n",
       "      <td>January</td>\n",
       "      <td>Friday</td>\n",
       "    </tr>\n",
       "  </tbody>\n",
       "</table>\n",
       "<p>5 rows × 30 columns</p>\n",
       "</div>"
      ],
      "text/plain": [
       "   Accident Index  Year  Severity  NumberVehicles  NumberCasualties  \\\n",
       "0    102262412010  2010         3               2                 1   \n",
       "1    102262562010  2010         3               2                 1   \n",
       "2    102264322010  2010         3               2                 1   \n",
       "3    107264182010  2010         3               3                 1   \n",
       "4    114261842010  2010         3               1                 1   \n",
       "\n",
       "   OutputDate  Day OutputTime  Easting  Northing  ...  \\\n",
       "0  01/01/2010    6      13:10   382347    390025  ...   \n",
       "1  01/01/2010    6      11:10   381892    390582  ...   \n",
       "2  01/01/2010    6      17:30   385840    403134  ...   \n",
       "3  01/01/2010    6      13:49   377762    403302  ...   \n",
       "4  01/01/2010    6      01:55   355982    404620  ...   \n",
       "\n",
       "   PedCrossingPhysicalFacilities  LightingCondition  WeatherCondition  \\\n",
       "0                              0                  1                 1   \n",
       "1                              0                  1                 1   \n",
       "2                              0                  4                 1   \n",
       "3                              0                  3                 9   \n",
       "4                              0                  7                 9   \n",
       "\n",
       "   RoadSurface  SpecialConditions  CarriagewayHazard  PlaceReported  Month  \\\n",
       "0            4                  0                  0              1      1   \n",
       "1            4                  0                  0              1      1   \n",
       "2            2                  0                  0              2      1   \n",
       "3            1                  0                  0              2      1   \n",
       "4            1                  0                  0              2      1   \n",
       "\n",
       "   MonthName  DayName  \n",
       "0    January   Friday  \n",
       "1    January   Friday  \n",
       "2    January   Friday  \n",
       "3    January   Friday  \n",
       "4    January   Friday  \n",
       "\n",
       "[5 rows x 30 columns]"
      ]
     },
     "execution_count": 11,
     "metadata": {},
     "output_type": "execute_result"
    }
   ],
   "source": [
    "#let's add month,day  column based on date field\n",
    "#let' convert to datetime field\n",
    "df_acc['OutputDate'].astype('datetime64') \n",
    "df_acc['Month'] = pd.DatetimeIndex(df_acc['OutputDate']).month\n",
    "df_acc['MonthName'] = pd.DatetimeIndex(df_acc['OutputDate']).month_name()\n",
    "df_acc['DayName'] = pd.DatetimeIndex(df_acc['OutputDate']).day_name()\n",
    "df_acc.head()\n"
   ]
  },
  {
   "cell_type": "markdown",
   "metadata": {},
   "source": [
    "Let’s see how many of each class 'Severity' is in our data set. "
   ]
  },
  {
   "cell_type": "code",
   "execution_count": 12,
   "metadata": {},
   "outputs": [
    {
     "data": {
      "text/plain": [
       "3    33594\n",
       "2     6126\n",
       "1      517\n",
       "Name: Severity, dtype: int64"
      ]
     },
     "execution_count": 12,
     "metadata": {},
     "output_type": "execute_result"
    }
   ],
   "source": [
    "df_acc['Severity'].value_counts()"
   ]
  },
  {
   "cell_type": "code",
   "execution_count": 13,
   "metadata": {},
   "outputs": [
    {
     "data": {
      "text/html": [
       "<div>\n",
       "<style scoped>\n",
       "    .dataframe tbody tr th:only-of-type {\n",
       "        vertical-align: middle;\n",
       "    }\n",
       "\n",
       "    .dataframe tbody tr th {\n",
       "        vertical-align: top;\n",
       "    }\n",
       "\n",
       "    .dataframe thead th {\n",
       "        text-align: right;\n",
       "    }\n",
       "</style>\n",
       "<table border=\"1\" class=\"dataframe\">\n",
       "  <thead>\n",
       "    <tr style=\"text-align: right;\">\n",
       "      <th></th>\n",
       "      <th>Accident Index</th>\n",
       "      <th>Year</th>\n",
       "      <th>Severity</th>\n",
       "      <th>NumberVehicles</th>\n",
       "      <th>NumberCasualties</th>\n",
       "      <th>Day</th>\n",
       "      <th>Easting</th>\n",
       "      <th>Northing</th>\n",
       "      <th>LocalAuthority</th>\n",
       "      <th>Road1Class</th>\n",
       "      <th>...</th>\n",
       "      <th>Road2Number</th>\n",
       "      <th>PedCrossingHumanControl</th>\n",
       "      <th>PedCrossingPhysicalFacilities</th>\n",
       "      <th>LightingCondition</th>\n",
       "      <th>WeatherCondition</th>\n",
       "      <th>RoadSurface</th>\n",
       "      <th>SpecialConditions</th>\n",
       "      <th>CarriagewayHazard</th>\n",
       "      <th>PlaceReported</th>\n",
       "      <th>Month</th>\n",
       "    </tr>\n",
       "  </thead>\n",
       "  <tbody>\n",
       "    <tr>\n",
       "      <th>count</th>\n",
       "      <td>4.023700e+04</td>\n",
       "      <td>40237.000000</td>\n",
       "      <td>40237.000000</td>\n",
       "      <td>40237.000000</td>\n",
       "      <td>40237.000000</td>\n",
       "      <td>40237.000000</td>\n",
       "      <td>40237.000000</td>\n",
       "      <td>40237.000000</td>\n",
       "      <td>40237.00000</td>\n",
       "      <td>40237.000000</td>\n",
       "      <td>...</td>\n",
       "      <td>40237.000000</td>\n",
       "      <td>40237.000000</td>\n",
       "      <td>40237.000000</td>\n",
       "      <td>40237.000000</td>\n",
       "      <td>40237.000000</td>\n",
       "      <td>40237.000000</td>\n",
       "      <td>40237.000000</td>\n",
       "      <td>40237.000000</td>\n",
       "      <td>40237.000000</td>\n",
       "      <td>40237.000000</td>\n",
       "    </tr>\n",
       "    <tr>\n",
       "      <th>mean</th>\n",
       "      <td>1.060687e+11</td>\n",
       "      <td>2014.110296</td>\n",
       "      <td>2.822054</td>\n",
       "      <td>1.866963</td>\n",
       "      <td>1.379949</td>\n",
       "      <td>4.104232</td>\n",
       "      <td>381789.810498</td>\n",
       "      <td>400525.147476</td>\n",
       "      <td>105.56458</td>\n",
       "      <td>4.828044</td>\n",
       "      <td>...</td>\n",
       "      <td>514.255387</td>\n",
       "      <td>0.013793</td>\n",
       "      <td>1.210801</td>\n",
       "      <td>2.152273</td>\n",
       "      <td>1.743718</td>\n",
       "      <td>1.348237</td>\n",
       "      <td>0.091483</td>\n",
       "      <td>0.029848</td>\n",
       "      <td>1.222705</td>\n",
       "      <td>6.562095</td>\n",
       "    </tr>\n",
       "    <tr>\n",
       "      <th>std</th>\n",
       "      <td>4.487208e+09</td>\n",
       "      <td>2.974619</td>\n",
       "      <td>0.414708</td>\n",
       "      <td>0.724414</td>\n",
       "      <td>0.968760</td>\n",
       "      <td>1.919086</td>\n",
       "      <td>9670.949257</td>\n",
       "      <td>7180.814993</td>\n",
       "      <td>4.48033</td>\n",
       "      <td>1.517774</td>\n",
       "      <td>...</td>\n",
       "      <td>1582.356458</td>\n",
       "      <td>0.150664</td>\n",
       "      <td>2.256658</td>\n",
       "      <td>1.562656</td>\n",
       "      <td>1.939520</td>\n",
       "      <td>0.569342</td>\n",
       "      <td>0.617178</td>\n",
       "      <td>0.364411</td>\n",
       "      <td>0.416067</td>\n",
       "      <td>3.434683</td>\n",
       "    </tr>\n",
       "    <tr>\n",
       "      <th>min</th>\n",
       "      <td>1.000006e+11</td>\n",
       "      <td>2010.000000</td>\n",
       "      <td>1.000000</td>\n",
       "      <td>1.000000</td>\n",
       "      <td>1.000000</td>\n",
       "      <td>1.000000</td>\n",
       "      <td>352359.000000</td>\n",
       "      <td>382369.000000</td>\n",
       "      <td>100.00000</td>\n",
       "      <td>1.000000</td>\n",
       "      <td>...</td>\n",
       "      <td>0.000000</td>\n",
       "      <td>0.000000</td>\n",
       "      <td>0.000000</td>\n",
       "      <td>1.000000</td>\n",
       "      <td>1.000000</td>\n",
       "      <td>1.000000</td>\n",
       "      <td>0.000000</td>\n",
       "      <td>0.000000</td>\n",
       "      <td>1.000000</td>\n",
       "      <td>1.000000</td>\n",
       "    </tr>\n",
       "    <tr>\n",
       "      <th>25%</th>\n",
       "      <td>1.023630e+11</td>\n",
       "      <td>2011.000000</td>\n",
       "      <td>3.000000</td>\n",
       "      <td>1.000000</td>\n",
       "      <td>1.000000</td>\n",
       "      <td>2.000000</td>\n",
       "      <td>376492.000000</td>\n",
       "      <td>395490.000000</td>\n",
       "      <td>102.00000</td>\n",
       "      <td>4.000000</td>\n",
       "      <td>...</td>\n",
       "      <td>0.000000</td>\n",
       "      <td>0.000000</td>\n",
       "      <td>0.000000</td>\n",
       "      <td>1.000000</td>\n",
       "      <td>1.000000</td>\n",
       "      <td>1.000000</td>\n",
       "      <td>0.000000</td>\n",
       "      <td>0.000000</td>\n",
       "      <td>1.000000</td>\n",
       "      <td>4.000000</td>\n",
       "    </tr>\n",
       "    <tr>\n",
       "      <th>50%</th>\n",
       "      <td>1.047086e+11</td>\n",
       "      <td>2014.000000</td>\n",
       "      <td>3.000000</td>\n",
       "      <td>2.000000</td>\n",
       "      <td>1.000000</td>\n",
       "      <td>4.000000</td>\n",
       "      <td>383793.000000</td>\n",
       "      <td>400112.000000</td>\n",
       "      <td>104.00000</td>\n",
       "      <td>4.000000</td>\n",
       "      <td>...</td>\n",
       "      <td>0.000000</td>\n",
       "      <td>0.000000</td>\n",
       "      <td>0.000000</td>\n",
       "      <td>1.000000</td>\n",
       "      <td>1.000000</td>\n",
       "      <td>1.000000</td>\n",
       "      <td>0.000000</td>\n",
       "      <td>0.000000</td>\n",
       "      <td>1.000000</td>\n",
       "      <td>7.000000</td>\n",
       "    </tr>\n",
       "    <tr>\n",
       "      <th>75%</th>\n",
       "      <td>1.096713e+11</td>\n",
       "      <td>2017.000000</td>\n",
       "      <td>3.000000</td>\n",
       "      <td>2.000000</td>\n",
       "      <td>1.000000</td>\n",
       "      <td>6.000000</td>\n",
       "      <td>388950.000000</td>\n",
       "      <td>405843.000000</td>\n",
       "      <td>109.00000</td>\n",
       "      <td>6.000000</td>\n",
       "      <td>...</td>\n",
       "      <td>0.000000</td>\n",
       "      <td>0.000000</td>\n",
       "      <td>0.000000</td>\n",
       "      <td>4.000000</td>\n",
       "      <td>1.000000</td>\n",
       "      <td>2.000000</td>\n",
       "      <td>0.000000</td>\n",
       "      <td>0.000000</td>\n",
       "      <td>1.000000</td>\n",
       "      <td>10.000000</td>\n",
       "    </tr>\n",
       "    <tr>\n",
       "      <th>max</th>\n",
       "      <td>1.149993e+11</td>\n",
       "      <td>2019.000000</td>\n",
       "      <td>3.000000</td>\n",
       "      <td>19.000000</td>\n",
       "      <td>87.000000</td>\n",
       "      <td>7.000000</td>\n",
       "      <td>404673.000000</td>\n",
       "      <td>418821.000000</td>\n",
       "      <td>114.00000</td>\n",
       "      <td>7.000000</td>\n",
       "      <td>...</td>\n",
       "      <td>6536.000000</td>\n",
       "      <td>2.000000</td>\n",
       "      <td>8.000000</td>\n",
       "      <td>7.000000</td>\n",
       "      <td>9.000000</td>\n",
       "      <td>5.000000</td>\n",
       "      <td>7.000000</td>\n",
       "      <td>7.000000</td>\n",
       "      <td>2.000000</td>\n",
       "      <td>12.000000</td>\n",
       "    </tr>\n",
       "  </tbody>\n",
       "</table>\n",
       "<p>8 rows × 26 columns</p>\n",
       "</div>"
      ],
      "text/plain": [
       "       Accident Index          Year      Severity  NumberVehicles  \\\n",
       "count    4.023700e+04  40237.000000  40237.000000    40237.000000   \n",
       "mean     1.060687e+11   2014.110296      2.822054        1.866963   \n",
       "std      4.487208e+09      2.974619      0.414708        0.724414   \n",
       "min      1.000006e+11   2010.000000      1.000000        1.000000   \n",
       "25%      1.023630e+11   2011.000000      3.000000        1.000000   \n",
       "50%      1.047086e+11   2014.000000      3.000000        2.000000   \n",
       "75%      1.096713e+11   2017.000000      3.000000        2.000000   \n",
       "max      1.149993e+11   2019.000000      3.000000       19.000000   \n",
       "\n",
       "       NumberCasualties           Day        Easting       Northing  \\\n",
       "count      40237.000000  40237.000000   40237.000000   40237.000000   \n",
       "mean           1.379949      4.104232  381789.810498  400525.147476   \n",
       "std            0.968760      1.919086    9670.949257    7180.814993   \n",
       "min            1.000000      1.000000  352359.000000  382369.000000   \n",
       "25%            1.000000      2.000000  376492.000000  395490.000000   \n",
       "50%            1.000000      4.000000  383793.000000  400112.000000   \n",
       "75%            1.000000      6.000000  388950.000000  405843.000000   \n",
       "max           87.000000      7.000000  404673.000000  418821.000000   \n",
       "\n",
       "       LocalAuthority    Road1Class  ...   Road2Number  \\\n",
       "count     40237.00000  40237.000000  ...  40237.000000   \n",
       "mean        105.56458      4.828044  ...    514.255387   \n",
       "std           4.48033      1.517774  ...   1582.356458   \n",
       "min         100.00000      1.000000  ...      0.000000   \n",
       "25%         102.00000      4.000000  ...      0.000000   \n",
       "50%         104.00000      4.000000  ...      0.000000   \n",
       "75%         109.00000      6.000000  ...      0.000000   \n",
       "max         114.00000      7.000000  ...   6536.000000   \n",
       "\n",
       "       PedCrossingHumanControl  PedCrossingPhysicalFacilities  \\\n",
       "count             40237.000000                   40237.000000   \n",
       "mean                  0.013793                       1.210801   \n",
       "std                   0.150664                       2.256658   \n",
       "min                   0.000000                       0.000000   \n",
       "25%                   0.000000                       0.000000   \n",
       "50%                   0.000000                       0.000000   \n",
       "75%                   0.000000                       0.000000   \n",
       "max                   2.000000                       8.000000   \n",
       "\n",
       "       LightingCondition  WeatherCondition   RoadSurface  SpecialConditions  \\\n",
       "count       40237.000000      40237.000000  40237.000000       40237.000000   \n",
       "mean            2.152273          1.743718      1.348237           0.091483   \n",
       "std             1.562656          1.939520      0.569342           0.617178   \n",
       "min             1.000000          1.000000      1.000000           0.000000   \n",
       "25%             1.000000          1.000000      1.000000           0.000000   \n",
       "50%             1.000000          1.000000      1.000000           0.000000   \n",
       "75%             4.000000          1.000000      2.000000           0.000000   \n",
       "max             7.000000          9.000000      5.000000           7.000000   \n",
       "\n",
       "       CarriagewayHazard  PlaceReported         Month  \n",
       "count       40237.000000   40237.000000  40237.000000  \n",
       "mean            0.029848       1.222705      6.562095  \n",
       "std             0.364411       0.416067      3.434683  \n",
       "min             0.000000       1.000000      1.000000  \n",
       "25%             0.000000       1.000000      4.000000  \n",
       "50%             0.000000       1.000000      7.000000  \n",
       "75%             0.000000       1.000000     10.000000  \n",
       "max             7.000000       2.000000     12.000000  \n",
       "\n",
       "[8 rows x 26 columns]"
      ]
     },
     "execution_count": 13,
     "metadata": {},
     "output_type": "execute_result"
    }
   ],
   "source": [
    "#let's see overall summary of accident data\n",
    "df_acc.describe()"
   ]
  },
  {
   "cell_type": "markdown",
   "metadata": {},
   "source": [
    "#### Let's find out the total number of accidents by severity over the period from 2010 to 2019 for Greater manchester."
   ]
  },
  {
   "cell_type": "code",
   "execution_count": 14,
   "metadata": {},
   "outputs": [
    {
     "name": "stdout",
     "output_type": "stream",
     "text": [
      "Total Accidents/Year \n",
      " [2010 2011 2012 2013 2014 2015 2016 2017 2018 2019] \n",
      " [5444 5127 4378 3861 4004 3073 2906 4066 3761 3617]\n",
      "Total Fatal Accidents/Year \n",
      " [2010 2011 2012 2013 2014 2015 2016 2017 2018 2019] \n",
      " [53 73 46 33 52 48 51 50 50 61]\n",
      "Total Serious Accidents/Year \n",
      " [2010 2011 2012 2013 2014 2015 2016 2017 2018 2019] \n",
      " [647 631 611 581 631 557 564 688 649 567]\n",
      "Total Light Accidents/Year \n",
      " [2010 2011 2012 2013 2014 2015 2016 2017 2018 2019] \n",
      " [4744 4423 3721 3247 3321 2468 2291 3328 3062 2989]\n"
     ]
    }
   ],
   "source": [
    "df_totl = df_acc[['Accident Index','Year']].groupby(['Year'],axis=0).count()\n",
    "df_totl.reset_index(inplace=True)\n",
    "#let's find total accidents\n",
    "X = np.array(df_totl['Year'])\n",
    "Y = np.array(df_totl['Accident Index'])\n",
    "print('Total Accidents/Year','\\n',X,'\\n',Y)\n",
    "#let's group data by Year, and Severity and number of casualities\n",
    "df_total_acc = df_acc[['Accident Index','Year','Severity']]\n",
    "df_total_acc = df_total_acc.groupby(['Year','Severity'],axis=0).count()\n",
    "df_total_acc.reset_index(inplace=True)\n",
    "x1 = np.array(df_total_acc[df_total_acc['Severity'] == 1]['Year'])\n",
    "y1 = np.array(df_total_acc[df_total_acc['Severity'] == 1]['Accident Index'])\n",
    "print('Total Fatal Accidents/Year','\\n',x1,'\\n',y1)\n",
    "x2 = np.array(df_total_acc[df_total_acc['Severity'] == 2]['Year'])\n",
    "y2 = np.array(df_total_acc[df_total_acc['Severity'] == 2]['Accident Index'])\n",
    "print('Total Serious Accidents/Year','\\n',x2,'\\n',y2)\n",
    "x3 = np.array(df_total_acc[df_total_acc['Severity'] == 3]['Year'])\n",
    "y3 = np.array(df_total_acc[df_total_acc['Severity'] == 3]['Accident Index'])\n",
    "print('Total Light Accidents/Year','\\n',x3,'\\n',y3)"
   ]
  },
  {
   "cell_type": "markdown",
   "metadata": {},
   "source": [
    "Let's plot some columns to understand data better:"
   ]
  },
  {
   "cell_type": "code",
   "execution_count": 15,
   "metadata": {},
   "outputs": [
    {
     "data": {
      "image/png": "[encoded data removed]",
      "text/plain": [
       "<Figure size 864x432 with 1 Axes>"
      ]
     },
     "metadata": {
      "needs_background": "light"
     },
     "output_type": "display_data"
    }
   ],
   "source": [
    "# plot with various axes scales\n",
    "plt.figure(figsize=(12,6))\n",
    "#plot total value\n",
    "plt.bar(X,Y,color='lime',label='Total')\n",
    "for a,b in zip(X,Y): \n",
    "    plt.text(a, b, str(b))\n",
    "#plot 'Fatal' value    \n",
    "plt.plot(x1,y1,color='r',label='Fatal')\n",
    "for a,b in zip(x1,y1): \n",
    "    plt.text(a, b, str(b))\n",
    "#plot Serious value    \n",
    "plt.plot(x2,y2,color='y',label='Serious')\n",
    "for a,b in zip(x2,y2): \n",
    "    plt.text(a, b, str(b))   \n",
    "#plot Light value\n",
    "plt.plot(x3,y3,color='g',label='Light')\n",
    "for a,b in zip(x3,y3): \n",
    "    plt.text(a, b, str(b))     \n",
    "plt.xlabel('Years')    \n",
    "plt.ylabel('Totals')\n",
    "plt.title('Total Number of Accidents by Severity from 2010 to 2019')\n",
    "plt.legend(loc=\"upper right\")\n",
    "plt.grid(True)"
   ]
  },
  {
   "cell_type": "markdown",
   "metadata": {},
   "source": [
    "If we consider 2010 as the base year, then we see there is a decrease trained in the number of accidents. However, the number of fatal accidents are remained constant throughout the period, a similar trend for serious accidents. For the severity type of 'light', there is a decreasing trend in the number of accidents. Also, we can see 2016 is the safest year and 2010 is the unsafe year of this decade for Greater Manchester.\n",
    "\n",
    "#### Let's find out the total number of casualties by severity over the period from 2010 to 2019 for Greater manchester."
   ]
  },
  {
   "cell_type": "code",
   "execution_count": 16,
   "metadata": {},
   "outputs": [
    {
     "name": "stdout",
     "output_type": "stream",
     "text": [
      "Total Fatal Casualities,/Year \n",
      " [2010 2011 2012 2013 2014 2015 2016 2017 2018 2019] \n",
      " [ 83 126  70  43  76  72  76  60  82  92]\n",
      "Average Fatal Casualities is 78\n",
      "Total Serious Casualities,/Year \n",
      " [2010 2011 2012 2013 2014 2015 2016 2017 2018 2019] \n",
      " [842 928 801 807 818 751 735 888 866 789]\n",
      "Average Serious Casualities is 822\n",
      "Total Light Casualities,/Year \n",
      " [2010 2011 2012 2013 2014 2015 2016 2017 2018 2019] \n",
      " [6662 6117 5187 4594 4741 3497 3144 4489 4078 4011]\n",
      "Average Light Casualities is 4652\n"
     ]
    }
   ],
   "source": [
    "#let's group data by Year, and Severity and number of casualities\n",
    "df_casu = df_acc[['Year','Severity','NumberCasualties']]\n",
    "df_casu = df_casu.groupby(['Year','Severity'],axis=0).sum()\n",
    "df_casu.reset_index(inplace=True)\n",
    "#let's find total casualities\n",
    "cond1 = df_casu['Severity'] == 1\n",
    "cond2 = df_casu['Severity'] == 2\n",
    "cond3 = df_casu['Severity'] == 3\n",
    "x1 = np.array(df_casu[cond1]['Year'])\n",
    "y1 = np.array(df_casu[cond1]['NumberCasualties'])\n",
    "y1_avg = y1.mean().astype(int)\n",
    "print('Total Fatal Casualities,/Year','\\n',x1,'\\n',y1)\n",
    "print('Average Fatal Casualities is',y1_avg)\n",
    "x2 = np.array(df_casu[cond2]['Year'])\n",
    "y2 = np.array(df_casu[cond2]['NumberCasualties'])\n",
    "y2_avg = y2.mean().astype(int)\n",
    "print('Total Serious Casualities,/Year','\\n',x2,'\\n',y2)\n",
    "print('Average Serious Casualities is',y2_avg)\n",
    "x3 = np.array(df_casu[cond3]['Year'])\n",
    "y3 = np.array(df_casu[cond3]['NumberCasualties'])\n",
    "y3_avg = y3.mean().astype(int)\n",
    "print('Total Light Casualities,/Year','\\n',x3,'\\n',y3)\n",
    "print('Average Light Casualities is',y3_avg)"
   ]
  },
  {
   "cell_type": "markdown",
   "metadata": {},
   "source": [
    "Let's plot these data for a better understanding."
   ]
  },
  {
   "cell_type": "code",
   "execution_count": 17,
   "metadata": {
    "scrolled": false
   },
   "outputs": [
    {
     "data": {
      "image/png": "[encoded data removed]",
      "text/plain": [
       "<Figure size 864x432 with 1 Axes>"
      ]
     },
     "metadata": {
      "needs_background": "light"
     },
     "output_type": "display_data"
    }
   ],
   "source": [
    "# let's plot with various axes scales\n",
    "plt.figure(figsize=(12,6))\n",
    "#plot fatal value\n",
    "plt.plot(x1,y1,color='r',label='Fatal')\n",
    "for a,b in zip(x1,y1): \n",
    "    plt.text(a, b, str(b))\n",
    "#plot serious value    \n",
    "plt.plot(x2,y2,color='y',label='Serious')\n",
    "for a,b in zip(x2,y2): \n",
    "    plt.text(a, b, str(b))   \n",
    "#plot light value    \n",
    "plt.plot(x3,y3,color='g',label='Light')\n",
    "for a,b in zip(x3,y3): \n",
    "    plt.text(a, b, str(b))     \n",
    "plt.xlabel('Years')    \n",
    "plt.ylabel('Totals')\n",
    "plt.title('Total Number of Casualties by Severity 2010 to 2019')\n",
    "plt.legend(loc=\"upper right\")\n",
    "plt.grid(True)\n",
    "plt.show()"
   ]
  },
  {
   "cell_type": "markdown",
   "metadata": {},
   "source": [
    "We see a similar trend in the total number of casualties over the year. The total number of casualties due to fatal and serious injuries remain constant over the year. However, there is a decreasing trend in the light type of injury. \n",
    "\n",
    "### Let's see accident severity and it's relationship with other categories for example Month, Day and Time."
   ]
  },
  {
   "cell_type": "code",
   "execution_count": 18,
   "metadata": {},
   "outputs": [
    {
     "data": {
      "image/png": "[encoded data removed]",
      "text/plain": [
       "<Figure size 1440x720 with 4 Axes>"
      ]
     },
     "metadata": {
      "needs_background": "light"
     },
     "output_type": "display_data"
    }
   ],
   "source": [
    "#Let's split dataset by accident severity\n",
    "df_sev1 = df_acc[df_acc['Severity'] == 1]\n",
    "df_sev2 = df_acc[df_acc['Severity'] == 2]\n",
    "df_sev3 = df_acc[df_acc['Severity'] == 3]\n",
    "plt.figure(figsize=(12,6))\n",
    "#Fatal\n",
    "plt.subplot(221)\n",
    "df_sev1.groupby(['MonthName'])['NumberCasualties'].sum().sort_values(ascending=False).plot(kind='bar',stacked=True,figsize=(20,10),color='r')\n",
    "plt.title('Fatal Accidents by Month')\n",
    "#Serious\n",
    "plt.subplot(222)\n",
    "df_sev2.groupby(['MonthName'])['NumberCasualties'].sum().sort_values(ascending=False).plot(kind='bar',stacked=True,figsize=(20,10),color='y')\n",
    "plt.title('Serious Accidents by Month')\n",
    "#Light\n",
    "plt.subplot(223)\n",
    "df_sev3.groupby(['MonthName'])['NumberCasualties'].sum().sort_values(ascending=False).plot(kind='bar',stacked=True,figsize=(20,10),color='g')\n",
    "plt.title('Light Accidents by Month')\n",
    "#All\n",
    "plt.subplot(224)\n",
    "df_acc.groupby(['MonthName'])['NumberCasualties'].sum().sort_values(ascending=False).plot(kind='bar',stacked=True,figsize=(20,10),color='lime')\n",
    "plt.title('Total casualities by Month')\n",
    "plt.grid(True)\n",
    "plt.show()"
   ]
  },
  {
   "cell_type": "markdown",
   "metadata": {},
   "source": [
    "As we see in the above list, 'Fatal' accidents are high in May, followed by March and December. Similarly, 'Serious' accident is high in June followed by August and October. For severity type 'Light', high is in September followed by November and October. In the last decade for Manchester, the month of June is the most unsafe followed by September and November. On other hand, February is the safest month, followed by April and December. \n",
    "\n",
    "Let's see accident severity by day for Greater Manchester."
   ]
  },
  {
   "cell_type": "code",
   "execution_count": 19,
   "metadata": {},
   "outputs": [
    {
     "data": {
      "text/html": [
       "<div>\n",
       "<style scoped>\n",
       "    .dataframe tbody tr th:only-of-type {\n",
       "        vertical-align: middle;\n",
       "    }\n",
       "\n",
       "    .dataframe tbody tr th {\n",
       "        vertical-align: top;\n",
       "    }\n",
       "\n",
       "    .dataframe thead th {\n",
       "        text-align: right;\n",
       "    }\n",
       "</style>\n",
       "<table border=\"1\" class=\"dataframe\">\n",
       "  <thead>\n",
       "    <tr style=\"text-align: right;\">\n",
       "      <th></th>\n",
       "      <th>Day</th>\n",
       "      <th>NumberCasualties</th>\n",
       "      <th>%Total</th>\n",
       "    </tr>\n",
       "  </thead>\n",
       "  <tbody>\n",
       "    <tr>\n",
       "      <th>5</th>\n",
       "      <td>6</td>\n",
       "      <td>8767</td>\n",
       "      <td>15.79</td>\n",
       "    </tr>\n",
       "    <tr>\n",
       "      <th>4</th>\n",
       "      <td>5</td>\n",
       "      <td>8375</td>\n",
       "      <td>15.08</td>\n",
       "    </tr>\n",
       "    <tr>\n",
       "      <th>2</th>\n",
       "      <td>3</td>\n",
       "      <td>8124</td>\n",
       "      <td>14.63</td>\n",
       "    </tr>\n",
       "    <tr>\n",
       "      <th>3</th>\n",
       "      <td>4</td>\n",
       "      <td>7992</td>\n",
       "      <td>14.39</td>\n",
       "    </tr>\n",
       "    <tr>\n",
       "      <th>1</th>\n",
       "      <td>2</td>\n",
       "      <td>7817</td>\n",
       "      <td>14.08</td>\n",
       "    </tr>\n",
       "    <tr>\n",
       "      <th>6</th>\n",
       "      <td>7</td>\n",
       "      <td>7684</td>\n",
       "      <td>13.84</td>\n",
       "    </tr>\n",
       "    <tr>\n",
       "      <th>0</th>\n",
       "      <td>1</td>\n",
       "      <td>6766</td>\n",
       "      <td>12.19</td>\n",
       "    </tr>\n",
       "  </tbody>\n",
       "</table>\n",
       "</div>"
      ],
      "text/plain": [
       "   Day  NumberCasualties  %Total\n",
       "5    6              8767   15.79\n",
       "4    5              8375   15.08\n",
       "2    3              8124   14.63\n",
       "3    4              7992   14.39\n",
       "1    2              7817   14.08\n",
       "6    7              7684   13.84\n",
       "0    1              6766   12.19"
      ]
     },
     "execution_count": 19,
     "metadata": {},
     "output_type": "execute_result"
    }
   ],
   "source": [
    "df_acc_days = df_acc[['Day','NumberCasualties']]\n",
    "df_acc_days = df_acc_days.groupby(by=['Day'],axis=0).sum()\n",
    "df_acc_days.reset_index(inplace=True)\n",
    "X =np.array(df_acc_days['Day'])\n",
    "Y = np.array(df_acc_days['NumberCasualties'])\n",
    "df_acc_days.sort_values(['NumberCasualties'], ascending=False, axis=0).head(7)\n",
    "df_acc_days['%Total']= (df_acc_days['NumberCasualties'] / df_acc_days['NumberCasualties'].sum()) * 100\n",
    "df_acc_days['%Total']= df_acc_days['%Total'].round(decimals=2)\n",
    "df_acc_days.sort_values(['NumberCasualties'], ascending=False, axis=0).head(7)"
   ]
  },
  {
   "cell_type": "markdown",
   "metadata": {},
   "source": [
    "We see here the number of casualties is higher on weekdays(60%) compare to weekends(40%). The highest number of casualties is on Friday(15%) and lowest on Sunday(13%)."
   ]
  },
  {
   "cell_type": "code",
   "execution_count": 20,
   "metadata": {
    "scrolled": true
   },
   "outputs": [
    {
     "data": {
      "text/html": [
       "<div>\n",
       "<style scoped>\n",
       "    .dataframe tbody tr th:only-of-type {\n",
       "        vertical-align: middle;\n",
       "    }\n",
       "\n",
       "    .dataframe tbody tr th {\n",
       "        vertical-align: top;\n",
       "    }\n",
       "\n",
       "    .dataframe thead th {\n",
       "        text-align: right;\n",
       "    }\n",
       "</style>\n",
       "<table border=\"1\" class=\"dataframe\">\n",
       "  <thead>\n",
       "    <tr style=\"text-align: right;\">\n",
       "      <th></th>\n",
       "      <th>Severity</th>\n",
       "      <th>Day</th>\n",
       "      <th>NumberCasualties</th>\n",
       "      <th>%Total</th>\n",
       "    </tr>\n",
       "  </thead>\n",
       "  <tbody>\n",
       "    <tr>\n",
       "      <th>6</th>\n",
       "      <td>1</td>\n",
       "      <td>7</td>\n",
       "      <td>101</td>\n",
       "      <td>19.54</td>\n",
       "    </tr>\n",
       "    <tr>\n",
       "      <th>5</th>\n",
       "      <td>1</td>\n",
       "      <td>6</td>\n",
       "      <td>88</td>\n",
       "      <td>17.02</td>\n",
       "    </tr>\n",
       "    <tr>\n",
       "      <th>0</th>\n",
       "      <td>1</td>\n",
       "      <td>1</td>\n",
       "      <td>81</td>\n",
       "      <td>15.67</td>\n",
       "    </tr>\n",
       "    <tr>\n",
       "      <th>2</th>\n",
       "      <td>1</td>\n",
       "      <td>3</td>\n",
       "      <td>70</td>\n",
       "      <td>13.54</td>\n",
       "    </tr>\n",
       "    <tr>\n",
       "      <th>4</th>\n",
       "      <td>1</td>\n",
       "      <td>5</td>\n",
       "      <td>67</td>\n",
       "      <td>12.96</td>\n",
       "    </tr>\n",
       "    <tr>\n",
       "      <th>1</th>\n",
       "      <td>1</td>\n",
       "      <td>2</td>\n",
       "      <td>65</td>\n",
       "      <td>12.57</td>\n",
       "    </tr>\n",
       "    <tr>\n",
       "      <th>3</th>\n",
       "      <td>1</td>\n",
       "      <td>4</td>\n",
       "      <td>45</td>\n",
       "      <td>8.70</td>\n",
       "    </tr>\n",
       "  </tbody>\n",
       "</table>\n",
       "</div>"
      ],
      "text/plain": [
       "   Severity  Day  NumberCasualties  %Total\n",
       "6         1    7               101   19.54\n",
       "5         1    6                88   17.02\n",
       "0         1    1                81   15.67\n",
       "2         1    3                70   13.54\n",
       "4         1    5                67   12.96\n",
       "1         1    2                65   12.57\n",
       "3         1    4                45    8.70"
      ]
     },
     "execution_count": 20,
     "metadata": {},
     "output_type": "execute_result"
    }
   ],
   "source": [
    "df_acc_rel = df_acc[['Day','Severity','NumberCasualties']]\n",
    "df_acc_rel = df_acc_rel.groupby(by=['Severity','Day'],axis=0).count()\n",
    "df_acc_rel.reset_index(inplace=True)\n",
    "df_acc_rel[['NumberCasualties']] = df_acc_rel[['NumberCasualties']].astype(\"int\")\n",
    "#Finding trend for total Casualties by day\n",
    "df_sev_day1 = df_acc_rel[df_acc_rel['Severity'] == 1].sort_values(['Day'], ascending=True, axis=0)  \n",
    "x1 = np.array(df_sev_day1['Day'])\n",
    "y1 = np.array(df_sev_day1['NumberCasualties'])\n",
    "df_sev_day1['%Total']= (df_sev_day1['NumberCasualties'] / df_sev_day1['NumberCasualties'].sum()) * 100\n",
    "df_sev_day1['%Total']= df_sev_day1['%Total'].round(decimals=2)\n",
    "df_sev_day1.sort_values(['NumberCasualties'], ascending=False, axis=0).head(7)"
   ]
  },
  {
   "cell_type": "markdown",
   "metadata": {},
   "source": [
    "We see here 'Fatal' casualties are higher at weekends(52%) compare to weekdays(48%). The highest is on Saturday(19%) followed by Friday(17%) and Sunday(15%). The lowest is on Wednesday(8%), followed by Monday(12%) and Thursday(13%)."
   ]
  },
  {
   "cell_type": "code",
   "execution_count": 21,
   "metadata": {
    "scrolled": true
   },
   "outputs": [
    {
     "data": {
      "text/html": [
       "<div>\n",
       "<style scoped>\n",
       "    .dataframe tbody tr th:only-of-type {\n",
       "        vertical-align: middle;\n",
       "    }\n",
       "\n",
       "    .dataframe tbody tr th {\n",
       "        vertical-align: top;\n",
       "    }\n",
       "\n",
       "    .dataframe thead th {\n",
       "        text-align: right;\n",
       "    }\n",
       "</style>\n",
       "<table border=\"1\" class=\"dataframe\">\n",
       "  <thead>\n",
       "    <tr style=\"text-align: right;\">\n",
       "      <th></th>\n",
       "      <th>Severity</th>\n",
       "      <th>Day</th>\n",
       "      <th>NumberCasualties</th>\n",
       "      <th>%Total</th>\n",
       "    </tr>\n",
       "  </thead>\n",
       "  <tbody>\n",
       "    <tr>\n",
       "      <th>12</th>\n",
       "      <td>2</td>\n",
       "      <td>6</td>\n",
       "      <td>1043</td>\n",
       "      <td>17.03</td>\n",
       "    </tr>\n",
       "    <tr>\n",
       "      <th>11</th>\n",
       "      <td>2</td>\n",
       "      <td>5</td>\n",
       "      <td>939</td>\n",
       "      <td>15.33</td>\n",
       "    </tr>\n",
       "    <tr>\n",
       "      <th>10</th>\n",
       "      <td>2</td>\n",
       "      <td>4</td>\n",
       "      <td>880</td>\n",
       "      <td>14.37</td>\n",
       "    </tr>\n",
       "    <tr>\n",
       "      <th>9</th>\n",
       "      <td>2</td>\n",
       "      <td>3</td>\n",
       "      <td>852</td>\n",
       "      <td>13.91</td>\n",
       "    </tr>\n",
       "    <tr>\n",
       "      <th>13</th>\n",
       "      <td>2</td>\n",
       "      <td>7</td>\n",
       "      <td>824</td>\n",
       "      <td>13.45</td>\n",
       "    </tr>\n",
       "    <tr>\n",
       "      <th>8</th>\n",
       "      <td>2</td>\n",
       "      <td>2</td>\n",
       "      <td>821</td>\n",
       "      <td>13.40</td>\n",
       "    </tr>\n",
       "    <tr>\n",
       "      <th>7</th>\n",
       "      <td>2</td>\n",
       "      <td>1</td>\n",
       "      <td>767</td>\n",
       "      <td>12.52</td>\n",
       "    </tr>\n",
       "  </tbody>\n",
       "</table>\n",
       "</div>"
      ],
      "text/plain": [
       "    Severity  Day  NumberCasualties  %Total\n",
       "12         2    6              1043   17.03\n",
       "11         2    5               939   15.33\n",
       "10         2    4               880   14.37\n",
       "9          2    3               852   13.91\n",
       "13         2    7               824   13.45\n",
       "8          2    2               821   13.40\n",
       "7          2    1               767   12.52"
      ]
     },
     "execution_count": 21,
     "metadata": {},
     "output_type": "execute_result"
    }
   ],
   "source": [
    "#Finding trend for total Casualties by day\n",
    "df_sev_day2 = df_acc_rel[df_acc_rel['Severity'] == 2].sort_values(['Day'], ascending=True, axis=0)  \n",
    "x2 = np.array(df_sev_day2['Day'])\n",
    "y2 = np.array(df_sev_day2['NumberCasualties'])\n",
    "df_sev_day2['%Total']= (df_sev_day2['NumberCasualties'] / df_sev_day2['NumberCasualties'].sum()) * 100\n",
    "df_sev_day2['%Total']= df_sev_day2['%Total'].round(decimals=2)\n",
    "df_sev_day2.sort_values(['NumberCasualties'], ascending=False, axis=0).head(7)"
   ]
  },
  {
   "cell_type": "markdown",
   "metadata": {},
   "source": [
    "We see here 'Serious' casualties are higher at weekdays(57%) compare to weekends(43%). However, the highest is on Friday(17%) followed by Thursday(15%) and Wednesday(14%). The lowest is on Sunday(12%), followed by Monday(13%) and Saturday(13%)."
   ]
  },
  {
   "cell_type": "code",
   "execution_count": 22,
   "metadata": {
    "scrolled": true
   },
   "outputs": [
    {
     "data": {
      "text/html": [
       "<div>\n",
       "<style scoped>\n",
       "    .dataframe tbody tr th:only-of-type {\n",
       "        vertical-align: middle;\n",
       "    }\n",
       "\n",
       "    .dataframe tbody tr th {\n",
       "        vertical-align: top;\n",
       "    }\n",
       "\n",
       "    .dataframe thead th {\n",
       "        text-align: right;\n",
       "    }\n",
       "</style>\n",
       "<table border=\"1\" class=\"dataframe\">\n",
       "  <thead>\n",
       "    <tr style=\"text-align: right;\">\n",
       "      <th></th>\n",
       "      <th>Severity</th>\n",
       "      <th>Day</th>\n",
       "      <th>NumberCasualties</th>\n",
       "      <th>%Total</th>\n",
       "    </tr>\n",
       "  </thead>\n",
       "  <tbody>\n",
       "    <tr>\n",
       "      <th>19</th>\n",
       "      <td>3</td>\n",
       "      <td>6</td>\n",
       "      <td>5353</td>\n",
       "      <td>15.93</td>\n",
       "    </tr>\n",
       "    <tr>\n",
       "      <th>18</th>\n",
       "      <td>3</td>\n",
       "      <td>5</td>\n",
       "      <td>5203</td>\n",
       "      <td>15.49</td>\n",
       "    </tr>\n",
       "    <tr>\n",
       "      <th>16</th>\n",
       "      <td>3</td>\n",
       "      <td>3</td>\n",
       "      <td>5201</td>\n",
       "      <td>15.48</td>\n",
       "    </tr>\n",
       "    <tr>\n",
       "      <th>17</th>\n",
       "      <td>3</td>\n",
       "      <td>4</td>\n",
       "      <td>5070</td>\n",
       "      <td>15.09</td>\n",
       "    </tr>\n",
       "    <tr>\n",
       "      <th>15</th>\n",
       "      <td>3</td>\n",
       "      <td>2</td>\n",
       "      <td>4810</td>\n",
       "      <td>14.32</td>\n",
       "    </tr>\n",
       "    <tr>\n",
       "      <th>20</th>\n",
       "      <td>3</td>\n",
       "      <td>7</td>\n",
       "      <td>4362</td>\n",
       "      <td>12.98</td>\n",
       "    </tr>\n",
       "    <tr>\n",
       "      <th>14</th>\n",
       "      <td>3</td>\n",
       "      <td>1</td>\n",
       "      <td>3595</td>\n",
       "      <td>10.70</td>\n",
       "    </tr>\n",
       "  </tbody>\n",
       "</table>\n",
       "</div>"
      ],
      "text/plain": [
       "    Severity  Day  NumberCasualties  %Total\n",
       "19         3    6              5353   15.93\n",
       "18         3    5              5203   15.49\n",
       "16         3    3              5201   15.48\n",
       "17         3    4              5070   15.09\n",
       "15         3    2              4810   14.32\n",
       "20         3    7              4362   12.98\n",
       "14         3    1              3595   10.70"
      ]
     },
     "execution_count": 22,
     "metadata": {},
     "output_type": "execute_result"
    }
   ],
   "source": [
    "#Finding trend for total Casualties by day\n",
    "df_sev_day3 = df_acc_rel[df_acc_rel['Severity'] == 3].sort_values(['Day'], ascending= True, axis=0)  \n",
    "x3 = np.array(df_sev_day3['Day'])\n",
    "y3 = np.array(df_sev_day3['NumberCasualties'])\n",
    "df_sev_day3['%Total']= (df_sev_day3['NumberCasualties'] / df_sev_day3['NumberCasualties'].sum()) * 100\n",
    "df_sev_day3['%Total']= df_sev_day3['%Total'].round(decimals=2)\n",
    "df_sev_day3.sort_values(['NumberCasualties'], ascending=False, axis=0).head(7)"
   ]
  },
  {
   "cell_type": "markdown",
   "metadata": {},
   "source": [
    "We see here the number of 'Light' casualties is higher on weekdays(61%) compare to weekends(39%). The highest number of 'Light' casualties is on Friday(16%) and lowest on Sunday(10%)."
   ]
  },
  {
   "cell_type": "code",
   "execution_count": 23,
   "metadata": {
    "scrolled": false
   },
   "outputs": [
    {
     "data": {
      "image/png": "[encoded data removed]",
      "text/plain": [
       "<Figure size 864x432 with 1 Axes>"
      ]
     },
     "metadata": {
      "needs_background": "light"
     },
     "output_type": "display_data"
    }
   ],
   "source": [
    "# plot with various axes scales\n",
    "plt.figure(figsize=(12,6))\n",
    "#plot total value\n",
    "plt.bar(X,Y,color='lime',label='Total')\n",
    "for a,b in zip(X,Y): \n",
    "    plt.text(a, b, str(b))\n",
    "#plot 'Fatal' value    \n",
    "plt.plot(x1,y1,color='r',label='Fatal')\n",
    "for a,b in zip(x1,y1): \n",
    "    plt.text(a, b, str(b))\n",
    "#plot Serious value    \n",
    "plt.plot(x2,y2,color='y',label='Serious')\n",
    "for a,b in zip(x2,y2): \n",
    "    plt.text(a, b, str(b))   \n",
    "#plot Light value\n",
    "plt.plot(x3,y3,color='g',label='Light')\n",
    "for a,b in zip(x3,y3): \n",
    "    plt.text(a, b, str(b))     \n",
    "plt.xlabel('Day')    \n",
    "plt.ylabel('Totals')\n",
    "plt.title('Total Number of Casualties by Day')\n",
    "plt.legend(loc=\"best\")\n",
    "plt.grid(True)"
   ]
  },
  {
   "cell_type": "markdown",
   "metadata": {},
   "source": [
    "P.S : Value descriptions are : (1,Sunday), (2,Monday), (3,Tuesday), (4,Wednesday), (5,Thursday), (6,Friday), (7,Saturday)."
   ]
  },
  {
   "cell_type": "markdown",
   "metadata": {},
   "source": [
    "In the above graph, we can see here the safest day for Manchester is Sunday and the unsafe day is on Friday. Also, we can see 'Fatal' casualties are high on Saturday, 'Serious' and 'Light' is high on 'Friday'.\n",
    "\n",
    "Let's find out accident casualties for Greater Manchester by 'Time'."
   ]
  },
  {
   "cell_type": "code",
   "execution_count": 24,
   "metadata": {},
   "outputs": [
    {
     "data": {
      "image/png": "[encoded data removed]",
      "text/plain": [
       "<Figure size 1440x720 with 4 Axes>"
      ]
     },
     "metadata": {
      "needs_background": "light"
     },
     "output_type": "display_data"
    }
   ],
   "source": [
    "plt.figure(figsize=(12,6))\n",
    "#Fatal\n",
    "plt.subplot(221)\n",
    "df_sev1.groupby(['OutputTime'])['NumberCasualties'].sum().plot(stacked=True,figsize=(20,10),color='r')\n",
    "plt.title('Fatal Accidents by Time')\n",
    "plt.grid(True)\n",
    "#Serious\n",
    "plt.subplot(222)\n",
    "df_sev2.groupby(['OutputTime'])['NumberCasualties'].sum().plot(stacked=True,figsize=(20,10),color='y')\n",
    "plt.title('Serious Accidents by Time')\n",
    "plt.grid(True)\n",
    "#Light\n",
    "plt.subplot(223)\n",
    "df_sev3.groupby(['OutputTime'])['NumberCasualties'].sum().plot(stacked=True,figsize=(20,10),color='g')\n",
    "plt.title('Light Accidents by Time')\n",
    "plt.grid(True)\n",
    "#All\n",
    "plt.subplot(224)\n",
    "df_acc.groupby(['OutputTime'])['NumberCasualties'].sum().plot(stacked=True,figsize=(20,10),color='lime')\n",
    "plt.title('Total casualities by Time')\n",
    "plt.grid(True)\n",
    "plt.show()"
   ]
  },
  {
   "cell_type": "markdown",
   "metadata": {},
   "source": [
    "As we see in the above graph 'Fatal' casualties are high at midnight between 2 AM to 3 AM. Similarly, 'Serious' casualties are high in the afternoon between 3 PM to 6 PM. 'Light' casualties  are also high in the afternoon between 5 PM to 9 PM.\n",
    "Overall casualties are high between 7 AM to 10 AM and later between 5 PM to 8 PM for Greater Manchester.\n",
    "\n",
    "Let's find some of the other factors associate with casualties such as  Road Class, Carriageway, Speed Limit, Road Junction, Weather, Lighting, etc."
   ]
  },
  {
   "cell_type": "code",
   "execution_count": 25,
   "metadata": {},
   "outputs": [
    {
     "data": {
      "image/png": "[encoded data removed]",
      "text/plain": [
       "<Figure size 1440x720 with 4 Axes>"
      ]
     },
     "metadata": {
      "needs_background": "light"
     },
     "output_type": "display_data"
    }
   ],
   "source": [
    "plt.figure(figsize=(12,6))\n",
    "#Fatal\n",
    "plt.subplot(221)\n",
    "df_sev1.groupby(['CarriagewayType'])['NumberCasualties'].sum().plot(kind='bar',stacked=True,figsize=(20,10),color='r')\n",
    "plt.title('Fatal Accidents by Road Type')\n",
    "plt.grid(True)\n",
    "#Serious\n",
    "plt.subplot(222)\n",
    "df_sev2.groupby(['CarriagewayType'])['NumberCasualties'].sum().plot(kind='bar',stacked=True,figsize=(20,10),color='y')\n",
    "plt.title('Serious Accidents by Road Type')\n",
    "plt.grid(True)\n",
    "#Light\n",
    "plt.subplot(223)\n",
    "df_sev3.groupby(['CarriagewayType'])['NumberCasualties'].sum().plot(kind='bar',stacked=True,figsize=(20,10),color='g')\n",
    "plt.title('Light Accidents by Road Type')\n",
    "plt.grid(True)\n",
    "#All\n",
    "plt.subplot(224)\n",
    "df_acc.groupby(['CarriagewayType'])['NumberCasualties'].sum().plot(kind='bar',stacked=True,figsize=(20,10),color='lime')\n",
    "plt.title('Total casualities by Road Type')\n",
    "plt.grid(True)\n",
    "plt.show()"
   ]
  },
  {
   "cell_type": "markdown",
   "metadata": {},
   "source": [
    "**P.S : Value descriptions are : (1,Roundabout),(2,One way street),(3,Dual carriageway),(6,Single carriageway),(7,Slip road),(9,Unknown).*\n"
   ]
  },
  {
   "cell_type": "markdown",
   "metadata": {},
   "source": [
    "As we see in the above graph 'Fatal', 'Serious', and 'Light' casualties are high in Single Carriageway(6) followed by Dual Carriageway (3) and Roundabout(1). A similar trend for Overall casualties i.e, high for single followed by Dual and Roundabout for Greater Manchester.\n",
    "\n",
    "Let's find out accident casualties for Greater Manchester by '1st Road Class'."
   ]
  },
  {
   "cell_type": "code",
   "execution_count": 26,
   "metadata": {},
   "outputs": [
    {
     "data": {
      "image/png": "[encoded data removed]",
      "text/plain": [
       "<Figure size 1440x720 with 4 Axes>"
      ]
     },
     "metadata": {
      "needs_background": "light"
     },
     "output_type": "display_data"
    }
   ],
   "source": [
    "plt.figure(figsize=(12,6))\n",
    "#Fatal\n",
    "plt.subplot(221)\n",
    "df_sev1.groupby(['Road1Class'])['NumberCasualties'].sum().plot(kind='bar',stacked=True,figsize=(20,10),color='r')\n",
    "plt.title('Fatal Accidents by 1st Road Class')\n",
    "plt.grid(True)\n",
    "#Serious\n",
    "plt.subplot(222)\n",
    "df_sev2.groupby(['Road1Class'])['NumberCasualties'].sum().plot(kind='bar',stacked=True,figsize=(20,10),color='y')\n",
    "plt.title('Serious Accidents by 1st Road Class')\n",
    "plt.grid(True)\n",
    "#Light\n",
    "plt.subplot(223)\n",
    "df_sev3.groupby(['Road1Class'])['NumberCasualties'].sum().plot(kind='bar',stacked=True,figsize=(20,10),color='g')\n",
    "plt.title('Light Accidents by 1st Road Class')\n",
    "plt.grid(True)\n",
    "#All\n",
    "plt.subplot(224)\n",
    "df_acc.groupby(['Road1Class'])['NumberCasualties'].sum().plot(kind='bar',stacked=True,figsize=(20,10),color='lime')\n",
    "plt.title('Total casualities by 1st Road Class')\n",
    "plt.grid(True)\n",
    "plt.show()"
   ]
  },
  {
   "cell_type": "markdown",
   "metadata": {},
   "source": [
    "**P.S : Value descriptions are : (1,Motorway),(2,A(M)),(3,A),(4,B),(5,C),(6,Unclassified),(7,Unknown).*"
   ]
  },
  {
   "cell_type": "markdown",
   "metadata": {},
   "source": [
    "As we see in the above graph 'Fatal', 'Serious', 'Light' casualties are significantly high in Road Class B(4) followed by Unclassified Carriageway(6). A similar trend for Overall casualties i.e, high in Road Class B(4) followed by Unclassified Carriageway(6) for Greater Manchester.\n",
    "\n",
    "Let's find out accident casualties for Greater Manchester by 'Junction Detail'."
   ]
  },
  {
   "cell_type": "code",
   "execution_count": 27,
   "metadata": {},
   "outputs": [
    {
     "data": {
      "image/png": "[encoded data removed]",
      "text/plain": [
       "<Figure size 1440x720 with 4 Axes>"
      ]
     },
     "metadata": {
      "needs_background": "light"
     },
     "output_type": "display_data"
    }
   ],
   "source": [
    "plt.figure(figsize=(12,6))\n",
    "#Fatal\n",
    "plt.subplot(221)\n",
    "df_sev1.groupby(['JunctionDetail'])['NumberCasualties'].sum().plot(kind='bar',stacked=True,figsize=(20,10),color='r')\n",
    "plt.title('Fatal Accidents by Junction Detail')\n",
    "plt.grid(True)\n",
    "#Serious\n",
    "plt.subplot(222)\n",
    "df_sev2.groupby(['JunctionDetail'])['NumberCasualties'].sum().plot(kind='bar',stacked=True,figsize=(20,10),color='y')\n",
    "plt.title('Serious Accidents by Junction Detail')\n",
    "plt.grid(True)\n",
    "#Light\n",
    "plt.subplot(223)\n",
    "df_sev3.groupby(['JunctionDetail'])['NumberCasualties'].sum().plot(kind='bar',stacked=True,figsize=(20,10),color='g')\n",
    "plt.title('Light Accidents by Junction Detail')\n",
    "plt.grid(True)\n",
    "#All\n",
    "plt.subplot(224)\n",
    "df_acc.groupby(['JunctionDetail'])['NumberCasualties'].sum().plot(kind='bar',stacked=True,figsize=(20,10),color='lime')\n",
    "plt.title('Total casualities by Junction Detail')\n",
    "plt.grid(True)\n",
    "plt.show()"
   ]
  },
  {
   "cell_type": "markdown",
   "metadata": {},
   "source": [
    "**P.S: Value descriptions are :(0, Not at or within 20 metres of junction),(1, Roundabout),(2, Mini roundabout,) (3, T or staggered junction),(5, Slip road),(6, Crossroads),(7, Junction more than four arms (not RAB)),(8, Using private drive or entrance),(9, Other junction)* "
   ]
  },
  {
   "cell_type": "markdown",
   "metadata": {},
   "source": [
    "As we see in the above graph casualties are significantly high in 'T or staggered junction' (41%) for Greater Manchester.\n",
    "\n",
    "Let's find out accident casualties for Greater Manchester by 'Junction Control'."
   ]
  },
  {
   "cell_type": "code",
   "execution_count": 28,
   "metadata": {},
   "outputs": [
    {
     "data": {
      "image/png": "[encoded data removed]",
      "text/plain": [
       "<Figure size 1440x720 with 4 Axes>"
      ]
     },
     "metadata": {
      "needs_background": "light"
     },
     "output_type": "display_data"
    }
   ],
   "source": [
    "plt.figure(figsize=(12,6))\n",
    "#Fatal\n",
    "plt.subplot(221)\n",
    "df_sev1.groupby(['JunctionControl'])['NumberCasualties'].sum().plot(kind='bar',stacked=True,figsize=(20,10),color='r')\n",
    "plt.title('Fatal Accidents by Junction Control')\n",
    "plt.grid(True)\n",
    "#Serious\n",
    "plt.subplot(222)\n",
    "df_sev2.groupby(['JunctionControl'])['NumberCasualties'].sum().plot(kind='bar',stacked=True,figsize=(20,10),color='y')\n",
    "plt.title('Serious Accidents by Junction Control')\n",
    "plt.grid(True)\n",
    "#Light\n",
    "plt.subplot(223)\n",
    "df_sev3.groupby(['JunctionControl'])['NumberCasualties'].sum().plot(kind='bar',stacked=True,figsize=(20,10),color='g')\n",
    "plt.title('Light Accidents by Junction Control')\n",
    "plt.grid(True)\n",
    "#All\n",
    "plt.subplot(224)\n",
    "df_acc.groupby(['JunctionControl'])['NumberCasualties'].sum().plot(kind='bar',stacked=True,figsize=(20,10),color='lime')\n",
    "plt.title('Total casualities by Junction Control')\n",
    "plt.grid(True)\n",
    "plt.show()"
   ]
  },
  {
   "cell_type": "markdown",
   "metadata": {},
   "source": [
    "**P.S: Value descriptions are :(0, Unknown),(1, Authorised person ),(2, Automatic traffic signal) (3, Stop sign),(4, Give way or uncontrolled)* "
   ]
  },
  {
   "cell_type": "markdown",
   "metadata": {},
   "source": [
    "As we see in the above graph casualties are significantly high where there is no junction control(54%) in place with comparision to a control system(37%) for Greater Manchester.\n",
    "\n",
    "Let's find out accident casualties for Greater Manchester by 'Speed Limit'."
   ]
  },
  {
   "cell_type": "code",
   "execution_count": 29,
   "metadata": {},
   "outputs": [
    {
     "data": {
      "image/png": "[encoded data removed]",
      "text/plain": [
       "<Figure size 1440x720 with 4 Axes>"
      ]
     },
     "metadata": {
      "needs_background": "light"
     },
     "output_type": "display_data"
    }
   ],
   "source": [
    "plt.figure(figsize=(12,6))\n",
    "#Fatal\n",
    "plt.subplot(221)\n",
    "df_sev1.groupby(['SpeedLimit'])['NumberCasualties'].sum().plot(kind='bar',stacked=True,figsize=(20,10),color='r')\n",
    "plt.title('Fatal Accidents by Speed Limit/mph')\n",
    "plt.grid(True)\n",
    "#Serious\n",
    "plt.subplot(222)\n",
    "df_sev2.groupby(['SpeedLimit'])['NumberCasualties'].sum().plot(kind='bar',stacked=True,figsize=(20,10),color='y')\n",
    "plt.title('Serious Accidents by Speed Limit/mph')\n",
    "plt.grid(True)\n",
    "#Light\n",
    "plt.subplot(223)\n",
    "df_sev3.groupby(['SpeedLimit'])['NumberCasualties'].sum().plot(kind='bar',stacked=True,figsize=(20,10),color='g')\n",
    "plt.title('Light Accidents by Speed Limit/mph')\n",
    "plt.grid(True)\n",
    "#All\n",
    "plt.subplot(224)\n",
    "df_acc.groupby(['SpeedLimit'])['NumberCasualties'].sum().plot(kind='bar',stacked=True,figsize=(20,10),color='lime')\n",
    "plt.title('Total casualities by Speed Limit/mph')\n",
    "plt.grid(True)\n",
    "plt.show()"
   ]
  },
  {
   "cell_type": "markdown",
   "metadata": {},
   "source": [
    "As we see in the above graph casualties are significantly high where the speed limit is 30 mph(80%) for Greater Manchester.\n",
    "\n",
    "Let's find out accident casualties for Greater Manchester by 'Physical Crossing Facilities'."
   ]
  },
  {
   "cell_type": "code",
   "execution_count": 30,
   "metadata": {},
   "outputs": [
    {
     "data": {
      "image/png": "[encoded data removed]",
      "text/plain": [
       "<Figure size 1440x720 with 4 Axes>"
      ]
     },
     "metadata": {
      "needs_background": "light"
     },
     "output_type": "display_data"
    }
   ],
   "source": [
    "plt.figure(figsize=(12,6))\n",
    "#Fatal\n",
    "plt.subplot(221)\n",
    "df_sev1.groupby(['PedCrossingPhysicalFacilities'])['NumberCasualties'].sum().plot(kind='bar',stacked=True,figsize=(20,10),color='r')\n",
    "plt.title('Fatal Accidents by Physical Crossing Facilities')\n",
    "plt.grid(True)\n",
    "#Serious\n",
    "plt.subplot(222)\n",
    "df_sev2.groupby(['PedCrossingPhysicalFacilities'])['NumberCasualties'].sum().plot(kind='bar',stacked=True,figsize=(20,10),color='y')\n",
    "plt.title('Serious Accidents by Physical Crossing Facilities')\n",
    "plt.grid(True)\n",
    "#Light\n",
    "plt.subplot(223)\n",
    "df_sev3.groupby(['PedCrossingPhysicalFacilities'])['NumberCasualties'].sum().plot(kind='bar',stacked=True,figsize=(20,10),color='g')\n",
    "plt.title('Light Accidents by Physical Crossing Facilities')\n",
    "plt.grid(True)\n",
    "#All\n",
    "plt.subplot(224)\n",
    "df_acc.groupby(['PedCrossingPhysicalFacilities'])['NumberCasualties'].sum().plot(kind='bar',stacked=True,figsize=(20,10),color='lime')\n",
    "plt.title('Total casualities by Physical Crossing Facilities')\n",
    "plt.grid(True)\n",
    "plt.show()"
   ]
  },
  {
   "cell_type": "markdown",
   "metadata": {},
   "source": [
    "**P.S: Value descriptions are :(0, No physical crossing facility within 50m),(1, Zebra crossing),(4, Pelican, puffin, toucan or similar non-junction pedestrian light crossing) (5, Pedestrian phase at traffic signal junction),(7, Footbridge or subway ),(8,Central refuge — no other controls)* "
   ]
  },
  {
   "cell_type": "markdown",
   "metadata": {},
   "source": [
    "As we see in the above graph most of the casualties have occurred where there is no physical crossing(75%), however, around 15% of cases casualties have occurred at the traffic signal.  \n",
    "\n",
    "Let's find out accident casualties for Greater Manchester by 'Lighting Condition'."
   ]
  },
  {
   "cell_type": "code",
   "execution_count": 31,
   "metadata": {},
   "outputs": [
    {
     "data": {
      "image/png": "[encoded data removed]",
      "text/plain": [
       "<Figure size 1440x720 with 4 Axes>"
      ]
     },
     "metadata": {
      "needs_background": "light"
     },
     "output_type": "display_data"
    }
   ],
   "source": [
    "plt.figure(figsize=(12,6))\n",
    "#Fatal\n",
    "plt.subplot(221)\n",
    "df_sev1.groupby(['LightingCondition'])['NumberCasualties'].sum().plot(kind='bar',stacked=True,figsize=(20,10),color='r')\n",
    "plt.title('Fatal Accidents by Lighting Condition')\n",
    "plt.grid(True)\n",
    "#Serious\n",
    "plt.subplot(222)\n",
    "df_sev2.groupby(['LightingCondition'])['NumberCasualties'].sum().plot(kind='bar',stacked=True,figsize=(20,10),color='y')\n",
    "plt.title('Serious Accidents by Lighting Condition')\n",
    "plt.grid(True)\n",
    "#Light\n",
    "plt.subplot(223)\n",
    "df_sev3.groupby(['LightingCondition'])['NumberCasualties'].sum().plot(kind='bar',stacked=True,figsize=(20,10),color='g')\n",
    "plt.title('Light Accidents by Lighting Condition')\n",
    "plt.grid(True)\n",
    "#All\n",
    "plt.subplot(224)\n",
    "df_acc.groupby(['LightingCondition'])['NumberCasualties'].sum().plot(kind='bar',stacked=True,figsize=(20,10),color='lime')\n",
    "plt.title('Total casualities by Lighting Condition')\n",
    "plt.grid(True)\n",
    "plt.grid(True)\n",
    "plt.show()"
   ]
  },
  {
   "cell_type": "markdown",
   "metadata": {},
   "source": [
    "**P.S: Value descriptions are :(1,2,3 - Daylight),(4, Darkness: street lights present and lit) (5, Darkness: street lights present but unlit),(6, Darkness: no street lighting),(7,Darkness: street lighting unknown)* "
   ]
  },
  {
   "cell_type": "markdown",
   "metadata": {},
   "source": [
    "As we see in the above graph most of the casualties have occurred in daylight(75%), however, around 25% of cases casualties have occurred where street lights present and lit.  \n",
    "\n",
    "Let's find out accident casualties for Greater Manchester by 'Weather Condition'."
   ]
  },
  {
   "cell_type": "code",
   "execution_count": 32,
   "metadata": {},
   "outputs": [
    {
     "data": {
      "image/png": "[encoded data removed]",
      "text/plain": [
       "<Figure size 1440x720 with 4 Axes>"
      ]
     },
     "metadata": {
      "needs_background": "light"
     },
     "output_type": "display_data"
    }
   ],
   "source": [
    "plt.figure(figsize=(12,6))\n",
    "#Fatal\n",
    "plt.subplot(221)\n",
    "df_sev1.groupby(['WeatherCondition'])['NumberCasualties'].sum().plot(kind='bar',stacked=True,figsize=(20,10),color='r')\n",
    "plt.title('Fatal Accidents by Weather Condition')\n",
    "plt.grid(True)\n",
    "#Serious\n",
    "plt.subplot(222)\n",
    "df_sev2.groupby(['WeatherCondition'])['NumberCasualties'].sum().plot(kind='bar',stacked=True,figsize=(20,10),color='y')\n",
    "plt.title('Serious Accidents by Weather Condition')\n",
    "plt.grid(True)\n",
    "#Light\n",
    "plt.subplot(223)\n",
    "df_sev3.groupby(['WeatherCondition'])['NumberCasualties'].sum().plot(kind='bar',stacked=True,figsize=(20,10),color='g')\n",
    "plt.title('Light Accidents by Weather Condition')\n",
    "plt.grid(True)\n",
    "#All\n",
    "plt.subplot(224)\n",
    "df_acc.groupby(['WeatherCondition'])['NumberCasualties'].sum().plot(kind='bar',stacked=True,figsize=(20,10),color='lime')\n",
    "plt.title('Total casualities by Weather Condition')\n",
    "plt.grid(True)\n",
    "plt.show()"
   ]
  },
  {
   "cell_type": "markdown",
   "metadata": {},
   "source": [
    "**P.S: Value descriptions are :(1, Fine without high winds),(2, Raining without high winds) (3, Snowing without high winds ),(4, Fine with high winds),(5,Raining with high winds),(6,Snowing with high winds),(7,Fog or mist — if hazard),(8,Other),(9,Unknown)* "
   ]
  },
  {
   "cell_type": "markdown",
   "metadata": {},
   "source": [
    "As we see in the above graph most of the casualties have occurred in fine weather without high winds(76%), however, around 14% of cases casualties have occurred during rain without high winds.  \n",
    "\n",
    "Let's find out accident casualties for Greater Manchester by other factors such as Sex, Age, Casualty Class, etc. "
   ]
  },
  {
   "cell_type": "code",
   "execution_count": 33,
   "metadata": {},
   "outputs": [
    {
     "data": {
      "image/png": "[encoded data removed]",
      "text/plain": [
       "<Figure size 1440x720 with 4 Axes>"
      ]
     },
     "metadata": {
      "needs_background": "light"
     },
     "output_type": "display_data"
    }
   ],
   "source": [
    "#Let's split dataset by accident severity\n",
    "df_csev1 = df_cas[df_cas['CasualtySeverity'] == 1]\n",
    "df_csev2 = df_cas[df_cas['CasualtySeverity'] == 2]\n",
    "df_csev3 = df_cas[df_cas['CasualtySeverity'] == 3]\n",
    "plt.figure(figsize=(12,6))\n",
    "#Fatal\n",
    "plt.subplot(221)\n",
    "df_csev1.groupby(['Sex'])['CasualtyNumber'].sum().sort_values(ascending=False).plot(kind='bar',stacked=True,figsize=(20,10),color='r')\n",
    "plt.title('Fatal Accidents by Sex')\n",
    "#Serious\n",
    "plt.subplot(222)\n",
    "df_csev2.groupby(['Sex'])['CasualtyNumber'].sum().sort_values(ascending=False).plot(kind='bar',stacked=True,figsize=(20,10),color='y')\n",
    "plt.title('Serious Accidents by Sex')\n",
    "#Light\n",
    "plt.subplot(223)\n",
    "df_csev3.groupby(['Sex'])['CasualtyNumber'].sum().sort_values(ascending=False).plot(kind='bar',stacked=True,figsize=(20,10),color='g')\n",
    "plt.title('Light Accidents by Sex')\n",
    "#All\n",
    "plt.subplot(224)\n",
    "df_cas.groupby(['Sex'])['CasualtyNumber'].sum().sort_values(ascending=False).plot(kind='bar',stacked=True,figsize=(20,10),color='lime')\n",
    "plt.title('Total casualities by Sex')\n",
    "plt.grid(True)\n",
    "plt.show()"
   ]
  },
  {
   "cell_type": "markdown",
   "metadata": {},
   "source": [
    "**P.S: Value descriptions are :(1,Male),(2, Female)* "
   ]
  },
  {
   "cell_type": "markdown",
   "metadata": {},
   "source": [
    "As we see in the above graph casualties are high for males (56%) and low for females (44%). \n",
    "\n",
    "Let's find out casualties by age group.  "
   ]
  },
  {
   "cell_type": "code",
   "execution_count": 34,
   "metadata": {},
   "outputs": [
    {
     "data": {
      "image/png": "[encoded data removed]",
      "text/plain": [
       "<Figure size 1440x720 with 4 Axes>"
      ]
     },
     "metadata": {
      "needs_background": "light"
     },
     "output_type": "display_data"
    }
   ],
   "source": [
    "#Fatal\n",
    "plt.subplot(221)\n",
    "df_csev1.groupby(['AgeBandOfCasualty'])['CasualtyNumber'].sum().plot(kind='bar',stacked=True,figsize=(20,10),color='r')\n",
    "plt.title('Fatal Accidents by Age')\n",
    "#Serious\n",
    "plt.subplot(222)\n",
    "df_csev2.groupby(['AgeBandOfCasualty'])['CasualtyNumber'].sum().plot(kind='bar',stacked=True,figsize=(20,10),color='y')\n",
    "plt.title('Serious Accidents by Age')\n",
    "#Light\n",
    "plt.subplot(223)\n",
    "df_csev3.groupby(['AgeBandOfCasualty'])['CasualtyNumber'].sum().plot(kind='bar',stacked=True,figsize=(20,10),color='g')\n",
    "plt.title('Light Accidents by Age')\n",
    "#All\n",
    "plt.subplot(224)\n",
    "df_cas.groupby(['AgeBandOfCasualty'])['CasualtyNumber'].sum().plot(kind='bar',stacked=True,figsize=(20,10),color='lime')\n",
    "plt.title('Total casualities by Age')\n",
    "plt.grid(True)\n",
    "plt.show()"
   ]
  },
  {
   "cell_type": "markdown",
   "metadata": {},
   "source": [
    "**P.S: Value descriptions are :(1,1 - 5),(2,6 - 10),(3,11 - 15),(4,16 - 20),(5,21 - 25),(6,26 - 35),(7,36 - 45),(8,46 - 55),(9,56 - 65),(10,66 - 75),(11,Over 75)* "
   ]
  },
  {
   "cell_type": "markdown",
   "metadata": {},
   "source": [
    "As we see in the above figure Fatal casualty is high for age group 75 above however, overall between age group, 26 to 35 accident casualties are the highest(20%)."
   ]
  },
  {
   "cell_type": "code",
   "execution_count": 35,
   "metadata": {},
   "outputs": [
    {
     "data": {
      "image/png": "[encoded data removed]",
      "text/plain": [
       "<Figure size 1440x720 with 4 Axes>"
      ]
     },
     "metadata": {
      "needs_background": "light"
     },
     "output_type": "display_data"
    }
   ],
   "source": [
    "#Fatal\n",
    "plt.subplot(221)\n",
    "df_csev1.groupby(['CasualtyClass'])['CasualtyNumber'].sum().plot(kind='bar',stacked=True,figsize=(20,10),color='r')\n",
    "plt.title('Fatal Accidents by Casualty Class')\n",
    "#Serious\n",
    "plt.subplot(222)\n",
    "df_csev2.groupby(['CasualtyClass'])['CasualtyNumber'].sum().plot(kind='bar',stacked=True,figsize=(20,10),color='y')\n",
    "plt.title('Serious Accidents by Casualty Class')\n",
    "#Light\n",
    "plt.subplot(223)\n",
    "df_csev3.groupby(['CasualtyClass'])['CasualtyNumber'].sum().plot(kind='bar',stacked=True,figsize=(20,10),color='g')\n",
    "plt.title('Light Accidents by Casualty Class')\n",
    "#All\n",
    "plt.subplot(224)\n",
    "df_cas.groupby(['CasualtyClass'])['CasualtyNumber'].sum().plot(kind='bar',stacked=True,figsize=(20,10),color='lime')\n",
    "plt.title('Total casualities by Casualty Class')\n",
    "plt.grid(True)\n",
    "plt.show()"
   ]
  },
  {
   "cell_type": "markdown",
   "metadata": {},
   "source": [
    "**P.S: Value descriptions are :(1,Driver/Rider),(2,Veh./pillion Passenger),(3,Pedestrian )* "
   ]
  },
  {
   "cell_type": "markdown",
   "metadata": {},
   "source": [
    "As we see in the above figure Fatal casualty is equally high for both driver and pedestrian. However, overall casualties for drivers and passengers are the same and it is 80% of the total."
   ]
  },
  {
   "cell_type": "markdown",
   "metadata": {},
   "source": [
    "#### 2.2 Feature selection and Normalize Data"
   ]
  },
  {
   "cell_type": "markdown",
   "metadata": {},
   "source": [
    "Let's summarize, based on the above data exploration and visualization we can strongly correlate accident severity with various factors for example day of the week, time, road type and carriageway, junction typer, weather condition, etc.\n",
    "\n",
    "So now let's build a supervised machine learning model to predict the accident severity. We will start with the features selection."
   ]
  },
  {
   "cell_type": "code",
   "execution_count": 36,
   "metadata": {},
   "outputs": [
    {
     "data": {
      "text/plain": [
       "0        13\n",
       "1        11\n",
       "2        17\n",
       "3        13\n",
       "4         1\n",
       "         ..\n",
       "40232    14\n",
       "40233    19\n",
       "40234    21\n",
       "40235    17\n",
       "40236    13\n",
       "Name: TimeHH, Length: 40237, dtype: int32"
      ]
     },
     "execution_count": 36,
     "metadata": {},
     "output_type": "execute_result"
    }
   ],
   "source": [
    "#Convert Outputtime to integer\n",
    "df_acc[['TimeHH','TimeMM']] = df_acc.OutputTime.str.split(\":\",expand=True) \n",
    "df_acc['TimeHH'].astype(int)"
   ]
  },
  {
   "cell_type": "code",
   "execution_count": 37,
   "metadata": {},
   "outputs": [
    {
     "data": {
      "text/html": [
       "<div>\n",
       "<style scoped>\n",
       "    .dataframe tbody tr th:only-of-type {\n",
       "        vertical-align: middle;\n",
       "    }\n",
       "\n",
       "    .dataframe tbody tr th {\n",
       "        vertical-align: top;\n",
       "    }\n",
       "\n",
       "    .dataframe thead th {\n",
       "        text-align: right;\n",
       "    }\n",
       "</style>\n",
       "<table border=\"1\" class=\"dataframe\">\n",
       "  <thead>\n",
       "    <tr style=\"text-align: right;\">\n",
       "      <th></th>\n",
       "      <th>Accident Index</th>\n",
       "      <th>Year</th>\n",
       "      <th>Severity</th>\n",
       "      <th>NumberVehicles</th>\n",
       "      <th>NumberCasualties</th>\n",
       "      <th>OutputDate</th>\n",
       "      <th>Day</th>\n",
       "      <th>OutputTime</th>\n",
       "      <th>Easting</th>\n",
       "      <th>Northing</th>\n",
       "      <th>...</th>\n",
       "      <th>WeatherCondition</th>\n",
       "      <th>RoadSurface</th>\n",
       "      <th>SpecialConditions</th>\n",
       "      <th>CarriagewayHazard</th>\n",
       "      <th>PlaceReported</th>\n",
       "      <th>Month</th>\n",
       "      <th>MonthName</th>\n",
       "      <th>DayName</th>\n",
       "      <th>TimeHH</th>\n",
       "      <th>TimeMM</th>\n",
       "    </tr>\n",
       "  </thead>\n",
       "  <tbody>\n",
       "    <tr>\n",
       "      <th>0</th>\n",
       "      <td>102262412010</td>\n",
       "      <td>2010</td>\n",
       "      <td>3</td>\n",
       "      <td>2</td>\n",
       "      <td>1</td>\n",
       "      <td>01/01/2010</td>\n",
       "      <td>6</td>\n",
       "      <td>13:10</td>\n",
       "      <td>382347</td>\n",
       "      <td>390025</td>\n",
       "      <td>...</td>\n",
       "      <td>1</td>\n",
       "      <td>4</td>\n",
       "      <td>0</td>\n",
       "      <td>0</td>\n",
       "      <td>1</td>\n",
       "      <td>1</td>\n",
       "      <td>January</td>\n",
       "      <td>Friday</td>\n",
       "      <td>13</td>\n",
       "      <td>10</td>\n",
       "    </tr>\n",
       "    <tr>\n",
       "      <th>1</th>\n",
       "      <td>102262562010</td>\n",
       "      <td>2010</td>\n",
       "      <td>3</td>\n",
       "      <td>2</td>\n",
       "      <td>1</td>\n",
       "      <td>01/01/2010</td>\n",
       "      <td>6</td>\n",
       "      <td>11:10</td>\n",
       "      <td>381892</td>\n",
       "      <td>390582</td>\n",
       "      <td>...</td>\n",
       "      <td>1</td>\n",
       "      <td>4</td>\n",
       "      <td>0</td>\n",
       "      <td>0</td>\n",
       "      <td>1</td>\n",
       "      <td>1</td>\n",
       "      <td>January</td>\n",
       "      <td>Friday</td>\n",
       "      <td>11</td>\n",
       "      <td>10</td>\n",
       "    </tr>\n",
       "    <tr>\n",
       "      <th>2</th>\n",
       "      <td>102264322010</td>\n",
       "      <td>2010</td>\n",
       "      <td>3</td>\n",
       "      <td>2</td>\n",
       "      <td>1</td>\n",
       "      <td>01/01/2010</td>\n",
       "      <td>6</td>\n",
       "      <td>17:30</td>\n",
       "      <td>385840</td>\n",
       "      <td>403134</td>\n",
       "      <td>...</td>\n",
       "      <td>1</td>\n",
       "      <td>2</td>\n",
       "      <td>0</td>\n",
       "      <td>0</td>\n",
       "      <td>2</td>\n",
       "      <td>1</td>\n",
       "      <td>January</td>\n",
       "      <td>Friday</td>\n",
       "      <td>17</td>\n",
       "      <td>30</td>\n",
       "    </tr>\n",
       "    <tr>\n",
       "      <th>3</th>\n",
       "      <td>107264182010</td>\n",
       "      <td>2010</td>\n",
       "      <td>3</td>\n",
       "      <td>3</td>\n",
       "      <td>1</td>\n",
       "      <td>01/01/2010</td>\n",
       "      <td>6</td>\n",
       "      <td>13:49</td>\n",
       "      <td>377762</td>\n",
       "      <td>403302</td>\n",
       "      <td>...</td>\n",
       "      <td>9</td>\n",
       "      <td>1</td>\n",
       "      <td>0</td>\n",
       "      <td>0</td>\n",
       "      <td>2</td>\n",
       "      <td>1</td>\n",
       "      <td>January</td>\n",
       "      <td>Friday</td>\n",
       "      <td>13</td>\n",
       "      <td>49</td>\n",
       "    </tr>\n",
       "    <tr>\n",
       "      <th>4</th>\n",
       "      <td>114261842010</td>\n",
       "      <td>2010</td>\n",
       "      <td>3</td>\n",
       "      <td>1</td>\n",
       "      <td>1</td>\n",
       "      <td>01/01/2010</td>\n",
       "      <td>6</td>\n",
       "      <td>01:55</td>\n",
       "      <td>355982</td>\n",
       "      <td>404620</td>\n",
       "      <td>...</td>\n",
       "      <td>9</td>\n",
       "      <td>1</td>\n",
       "      <td>0</td>\n",
       "      <td>0</td>\n",
       "      <td>2</td>\n",
       "      <td>1</td>\n",
       "      <td>January</td>\n",
       "      <td>Friday</td>\n",
       "      <td>1</td>\n",
       "      <td>55</td>\n",
       "    </tr>\n",
       "  </tbody>\n",
       "</table>\n",
       "<p>5 rows × 32 columns</p>\n",
       "</div>"
      ],
      "text/plain": [
       "   Accident Index  Year  Severity  NumberVehicles  NumberCasualties  \\\n",
       "0    102262412010  2010         3               2                 1   \n",
       "1    102262562010  2010         3               2                 1   \n",
       "2    102264322010  2010         3               2                 1   \n",
       "3    107264182010  2010         3               3                 1   \n",
       "4    114261842010  2010         3               1                 1   \n",
       "\n",
       "   OutputDate  Day OutputTime  Easting  Northing  ...  WeatherCondition  \\\n",
       "0  01/01/2010    6      13:10   382347    390025  ...                 1   \n",
       "1  01/01/2010    6      11:10   381892    390582  ...                 1   \n",
       "2  01/01/2010    6      17:30   385840    403134  ...                 1   \n",
       "3  01/01/2010    6      13:49   377762    403302  ...                 9   \n",
       "4  01/01/2010    6      01:55   355982    404620  ...                 9   \n",
       "\n",
       "   RoadSurface  SpecialConditions  CarriagewayHazard  PlaceReported  Month  \\\n",
       "0            4                  0                  0              1      1   \n",
       "1            4                  0                  0              1      1   \n",
       "2            2                  0                  0              2      1   \n",
       "3            1                  0                  0              2      1   \n",
       "4            1                  0                  0              2      1   \n",
       "\n",
       "   MonthName  DayName  TimeHH  TimeMM  \n",
       "0    January   Friday      13      10  \n",
       "1    January   Friday      11      10  \n",
       "2    January   Friday      17      30  \n",
       "3    January   Friday      13      49  \n",
       "4    January   Friday       1      55  \n",
       "\n",
       "[5 rows x 32 columns]"
      ]
     },
     "execution_count": 37,
     "metadata": {},
     "output_type": "execute_result"
    }
   ],
   "source": [
    "df_acc['TimeHH'] = df_acc['TimeHH'].astype(int)\n",
    "df_acc.head()"
   ]
  },
  {
   "cell_type": "code",
   "execution_count": 38,
   "metadata": {},
   "outputs": [],
   "source": [
    "Feature = ['Day','Road1Class','CarriagewayType','SpeedLimit','JunctionDetail','JunctionControl','Road2Class','PedCrossingHumanControl','LightingCondition','WeatherCondition','Month','TimeHH']"
   ]
  },
  {
   "cell_type": "code",
   "execution_count": 39,
   "metadata": {},
   "outputs": [
    {
     "name": "stdout",
     "output_type": "stream",
     "text": [
      "<class 'pandas.core.frame.DataFrame'>\n",
      "RangeIndex: 40237 entries, 0 to 40236\n",
      "Data columns (total 12 columns):\n",
      " #   Column                   Non-Null Count  Dtype\n",
      "---  ------                   --------------  -----\n",
      " 0   Day                      40237 non-null  int64\n",
      " 1   Road1Class               40237 non-null  int64\n",
      " 2   CarriagewayType          40237 non-null  int64\n",
      " 3   SpeedLimit               40237 non-null  int64\n",
      " 4   JunctionDetail           40237 non-null  int64\n",
      " 5   JunctionControl          40237 non-null  int64\n",
      " 6   Road2Class               40237 non-null  int64\n",
      " 7   PedCrossingHumanControl  40237 non-null  int64\n",
      " 8   LightingCondition        40237 non-null  int64\n",
      " 9   WeatherCondition         40237 non-null  int64\n",
      " 10  Month                    40237 non-null  int64\n",
      " 11  TimeHH                   40237 non-null  int32\n",
      "dtypes: int32(1), int64(11)\n",
      "memory usage: 3.5 MB\n"
     ]
    }
   ],
   "source": [
    "df_fe = df_acc[Feature]\n",
    "df_fe.info()"
   ]
  },
  {
   "cell_type": "markdown",
   "metadata": {},
   "source": [
    "#### Feature selection"
   ]
  },
  {
   "cell_type": "code",
   "execution_count": 40,
   "metadata": {},
   "outputs": [
    {
     "data": {
      "text/html": [
       "<div>\n",
       "<style scoped>\n",
       "    .dataframe tbody tr th:only-of-type {\n",
       "        vertical-align: middle;\n",
       "    }\n",
       "\n",
       "    .dataframe tbody tr th {\n",
       "        vertical-align: top;\n",
       "    }\n",
       "\n",
       "    .dataframe thead th {\n",
       "        text-align: right;\n",
       "    }\n",
       "</style>\n",
       "<table border=\"1\" class=\"dataframe\">\n",
       "  <thead>\n",
       "    <tr style=\"text-align: right;\">\n",
       "      <th></th>\n",
       "      <th>Day</th>\n",
       "      <th>Road1Class</th>\n",
       "      <th>CarriagewayType</th>\n",
       "      <th>SpeedLimit</th>\n",
       "      <th>JunctionDetail</th>\n",
       "      <th>JunctionControl</th>\n",
       "      <th>Road2Class</th>\n",
       "      <th>PedCrossingHumanControl</th>\n",
       "      <th>LightingCondition</th>\n",
       "      <th>WeatherCondition</th>\n",
       "      <th>Month</th>\n",
       "      <th>TimeHH</th>\n",
       "    </tr>\n",
       "  </thead>\n",
       "  <tbody>\n",
       "    <tr>\n",
       "      <th>0</th>\n",
       "      <td>6</td>\n",
       "      <td>5</td>\n",
       "      <td>3</td>\n",
       "      <td>50</td>\n",
       "      <td>6</td>\n",
       "      <td>2</td>\n",
       "      <td>3</td>\n",
       "      <td>0</td>\n",
       "      <td>1</td>\n",
       "      <td>1</td>\n",
       "      <td>1</td>\n",
       "      <td>13</td>\n",
       "    </tr>\n",
       "    <tr>\n",
       "      <th>1</th>\n",
       "      <td>6</td>\n",
       "      <td>7</td>\n",
       "      <td>6</td>\n",
       "      <td>30</td>\n",
       "      <td>3</td>\n",
       "      <td>4</td>\n",
       "      <td>7</td>\n",
       "      <td>0</td>\n",
       "      <td>1</td>\n",
       "      <td>1</td>\n",
       "      <td>1</td>\n",
       "      <td>11</td>\n",
       "    </tr>\n",
       "    <tr>\n",
       "      <th>2</th>\n",
       "      <td>6</td>\n",
       "      <td>4</td>\n",
       "      <td>3</td>\n",
       "      <td>30</td>\n",
       "      <td>3</td>\n",
       "      <td>4</td>\n",
       "      <td>7</td>\n",
       "      <td>0</td>\n",
       "      <td>4</td>\n",
       "      <td>1</td>\n",
       "      <td>1</td>\n",
       "      <td>17</td>\n",
       "    </tr>\n",
       "    <tr>\n",
       "      <th>3</th>\n",
       "      <td>6</td>\n",
       "      <td>4</td>\n",
       "      <td>3</td>\n",
       "      <td>30</td>\n",
       "      <td>3</td>\n",
       "      <td>4</td>\n",
       "      <td>1</td>\n",
       "      <td>0</td>\n",
       "      <td>3</td>\n",
       "      <td>9</td>\n",
       "      <td>1</td>\n",
       "      <td>13</td>\n",
       "    </tr>\n",
       "    <tr>\n",
       "      <th>4</th>\n",
       "      <td>6</td>\n",
       "      <td>4</td>\n",
       "      <td>6</td>\n",
       "      <td>30</td>\n",
       "      <td>0</td>\n",
       "      <td>0</td>\n",
       "      <td>0</td>\n",
       "      <td>0</td>\n",
       "      <td>7</td>\n",
       "      <td>9</td>\n",
       "      <td>1</td>\n",
       "      <td>1</td>\n",
       "    </tr>\n",
       "  </tbody>\n",
       "</table>\n",
       "</div>"
      ],
      "text/plain": [
       "   Day  Road1Class  CarriagewayType  SpeedLimit  JunctionDetail  \\\n",
       "0    6           5                3          50               6   \n",
       "1    6           7                6          30               3   \n",
       "2    6           4                3          30               3   \n",
       "3    6           4                3          30               3   \n",
       "4    6           4                6          30               0   \n",
       "\n",
       "   JunctionControl  Road2Class  PedCrossingHumanControl  LightingCondition  \\\n",
       "0                2           3                        0                  1   \n",
       "1                4           7                        0                  1   \n",
       "2                4           7                        0                  4   \n",
       "3                4           1                        0                  3   \n",
       "4                0           0                        0                  7   \n",
       "\n",
       "   WeatherCondition  Month  TimeHH  \n",
       "0                 1      1      13  \n",
       "1                 1      1      11  \n",
       "2                 1      1      17  \n",
       "3                 9      1      13  \n",
       "4                 9      1       1  "
      ]
     },
     "execution_count": 40,
     "metadata": {},
     "output_type": "execute_result"
    }
   ],
   "source": [
    "X = df_fe\n",
    "X[0:5]"
   ]
  },
  {
   "cell_type": "code",
   "execution_count": 41,
   "metadata": {},
   "outputs": [
    {
     "data": {
      "text/plain": [
       "array([3, 3, 3, 3, 3], dtype=int64)"
      ]
     },
     "execution_count": 41,
     "metadata": {},
     "output_type": "execute_result"
    }
   ],
   "source": [
    "#lets select lables\n",
    "y = df_acc['Severity'].values\n",
    "y[0:5]"
   ]
  },
  {
   "cell_type": "markdown",
   "metadata": {},
   "source": [
    "#### Normalize Data"
   ]
  },
  {
   "cell_type": "code",
   "execution_count": 42,
   "metadata": {},
   "outputs": [
    {
     "data": {
      "text/plain": [
       "array([[ 0.98786133,  0.11329634, -1.38128524,  1.63499604,  1.20365736,\n",
       "        -0.34914514, -0.54959878, -0.09155094, -0.73739017, -0.38345975,\n",
       "        -1.61941089, -0.15401178],\n",
       "       [ 0.98786133,  1.43103153,  0.50799255, -0.28951062, -0.04103928,\n",
       "         0.84045248,  0.83968087, -0.09155094, -0.73739017, -0.38345975,\n",
       "        -1.61941089, -0.54128623],\n",
       "       [ 0.98786133, -0.54557125, -1.38128524, -0.28951062, -0.04103928,\n",
       "         0.84045248,  0.83968087, -0.09155094,  1.18244214, -0.38345975,\n",
       "        -1.61941089,  0.62053712],\n",
       "       [ 0.98786133, -0.54557125, -1.38128524, -0.28951062, -0.04103928,\n",
       "         0.84045248, -1.24423861, -0.09155094,  0.54249803,  3.7413242 ,\n",
       "        -1.61941089, -0.15401178],\n",
       "       [ 0.98786133, -0.54557125,  0.50799255, -0.28951062, -1.28573592,\n",
       "        -1.53874276, -1.59155852, -0.09155094,  3.10227445,  3.7413242 ,\n",
       "        -1.61941089, -2.47765849]])"
      ]
     },
     "execution_count": 42,
     "metadata": {},
     "output_type": "execute_result"
    }
   ],
   "source": [
    "X= preprocessing.StandardScaler().fit(X).transform(X)\n",
    "X[0:5]"
   ]
  },
  {
   "cell_type": "code",
   "execution_count": 43,
   "metadata": {},
   "outputs": [
    {
     "name": "stdout",
     "output_type": "stream",
     "text": [
      "Train set: (26154, 12) (26154,)\n",
      "Test set: (14083, 12) (14083,)\n"
     ]
    }
   ],
   "source": [
    "#split data into test and training\n",
    "from sklearn.model_selection import train_test_split\n",
    "X_train, X_test, y_train, y_test = train_test_split( X, y, test_size=0.35, random_state=4)\n",
    "print ('Train set:', X_train.shape,  y_train.shape)\n",
    "print ('Test set:', X_test.shape,  y_test.shape)"
   ]
  },
  {
   "cell_type": "markdown",
   "metadata": {},
   "source": [
    "### 3. Machine Learning algorithms.\n",
    "\n",
    "This is a classification problem as all the variables in the data set are categorical. Let's use following classification algorithm to build model and use various accuracy measure to evaluate it. \n",
    "\n",
    "   1. K Nearest Neighbor(KNN)\n",
    "   2. Decision Tree\n",
    "   3. Support Vector Machine\n",
    "   4. Logistic Regression\n"
   ]
  },
  {
   "cell_type": "markdown",
   "metadata": {},
   "source": [
    "#### 3.1. K Nearest Neighbor(KNN)"
   ]
  },
  {
   "cell_type": "code",
   "execution_count": 44,
   "metadata": {},
   "outputs": [
    {
     "name": "stdout",
     "output_type": "stream",
     "text": [
      "The best accuracy was with 0.8279485904991835 with k= 9\n"
     ]
    }
   ],
   "source": [
    "#let's build KNN model \n",
    "\n",
    "#let's find best K vale\n",
    "Ks=10\n",
    "KNN_acc = np.zeros((Ks-1))\n",
    "for k in range(1,Ks):\n",
    "    neigh = KNeighborsClassifier(n_neighbors = k).fit(X_train,y_train)\n",
    "    y_hat = neigh.predict(X_test)\n",
    "    KNN_acc[k-1] = metrics.accuracy_score(y_test, y_hat)\n",
    "#print the highest K\n",
    "print( \"The best accuracy was with\", KNN_acc.max(), \"with k=\", KNN_acc.argmax()+1) "
   ]
  },
  {
   "cell_type": "code",
   "execution_count": 45,
   "metadata": {},
   "outputs": [
    {
     "name": "stdout",
     "output_type": "stream",
     "text": [
      "Train set Accuracy:  0.8366215492850042\n"
     ]
    }
   ],
   "source": [
    "#initialize k to 9 and predict\n",
    "k=9\n",
    "#Train Model and Predict  \n",
    "neigh = KNeighborsClassifier(n_neighbors = k).fit(X_train,y_train)\n",
    "print(\"Train set Accuracy: \", metrics.accuracy_score(y_train, neigh.predict(X_train)))"
   ]
  },
  {
   "cell_type": "markdown",
   "metadata": {},
   "source": [
    "##### KNN Model Evaluation using Test set\n"
   ]
  },
  {
   "cell_type": "code",
   "execution_count": 46,
   "metadata": {},
   "outputs": [
    {
     "name": "stdout",
     "output_type": "stream",
     "text": [
      "KNN Model Accuracy:  \n",
      " Metrics Accuracy:  0.8279485904991835 \n",
      " Jaccard_similarity_score:  0.6950309684054108 \n",
      " F1-score:  0.7626832450161618\n"
     ]
    }
   ],
   "source": [
    "y_knn = neigh.predict(X_test)\n",
    "print(\"KNN Model Accuracy: \",'\\n',\"Metrics Accuracy: \", metrics.accuracy_score(y_test, y_knn),'\\n','Jaccard_similarity_score: ', jaccard_score(y_test, y_knn,average=\"weighted\"),'\\n','F1-score: ',f1_score(y_test, y_knn,average=\"weighted\"))\n",
    "#let's find jaccard and F-score value to a data frame\n",
    "# initialize list of lists \n",
    "data1 = [['KNN',jaccard_score(y_test, y_knn,average=\"weighted\"),f1_score(y_test, y_knn,average=\"weighted\"),'NA']] \n",
    "# add result to dataframe for summarization.  \n",
    "df_score = pd.DataFrame(data1,columns = ['Algorithm','Jaccard','F1-score','LogLoss'])"
   ]
  },
  {
   "cell_type": "markdown",
   "metadata": {},
   "source": [
    "#### 3.2. Decision Tree"
   ]
  },
  {
   "cell_type": "code",
   "execution_count": 47,
   "metadata": {},
   "outputs": [
    {
     "name": "stdout",
     "output_type": "stream",
     "text": [
      "Train set Accuracy:  0.8366215492850042\n"
     ]
    }
   ],
   "source": [
    "#create  DecisionTree object, set depth to 4\n",
    "dtree = DecisionTreeClassifier(criterion=\"entropy\", max_depth = 4)\n",
    "#build model fit with trianing set\n",
    "dtree.fit(X_train,y_train)\n",
    "print(\"Train set Accuracy: \", metrics.accuracy_score(y_train, neigh.predict(X_train)))"
   ]
  },
  {
   "cell_type": "markdown",
   "metadata": {},
   "source": [
    "##### Decision Tree Model Evaluation using Test set"
   ]
  },
  {
   "cell_type": "code",
   "execution_count": 48,
   "metadata": {},
   "outputs": [
    {
     "name": "stdout",
     "output_type": "stream",
     "text": [
      "Decision Tree Model Accuracy:  \n",
      " Metrics Accuracy:  0.8361144642476745 \n",
      " Jaccard Score:  0.6990873973241758 \n",
      " F1-score:  0.7614856382176787\n"
     ]
    }
   ],
   "source": [
    "y_tree = dtree.predict(X_test)\n",
    "print(\"Decision Tree Model Accuracy: \",'\\n',\"Metrics Accuracy: \", metrics.accuracy_score(y_test, y_tree),'\\n','Jaccard Score: ', jaccard_score(y_test, y_tree,average=\"weighted\"),'\\n','F1-score: ',f1_score(y_test, y_tree,average=\"weighted\"))\n",
    "# initialize list of lists \n",
    "df_score.loc[1] = ['Decision Tree', jaccard_score(y_test,y_tree,average=\"weighted\"),f1_score(y_test,y_tree,average=\"weighted\"),'NA']"
   ]
  },
  {
   "cell_type": "markdown",
   "metadata": {},
   "source": [
    "#### 3.3 Support Vector Machine(SVM)"
   ]
  },
  {
   "cell_type": "code",
   "execution_count": 49,
   "metadata": {},
   "outputs": [
    {
     "name": "stdout",
     "output_type": "stream",
     "text": [
      "SVM's Train set Accuracy:  0.8342509749942647\n"
     ]
    }
   ],
   "source": [
    "#let's build fit\n",
    "svm_cl = svm.SVC(kernel= 'rbf',gamma='auto') \n",
    "svm_cl.fit(X_train, y_train) \n",
    "#print accuracy score\n",
    "print(\"SVM's Train set Accuracy: \", metrics.accuracy_score(y_train, svm_cl.predict(X_train)))"
   ]
  },
  {
   "cell_type": "markdown",
   "metadata": {},
   "source": [
    "###### SVM Model Evaluation using Test set"
   ]
  },
  {
   "cell_type": "code",
   "execution_count": 50,
   "metadata": {},
   "outputs": [
    {
     "name": "stdout",
     "output_type": "stream",
     "text": [
      "SVM Model Accuracy:  \n",
      " Metrics Accuracy:  0.8361144642476745 \n",
      " Jaccard Score:  0.6990873973241758 \n",
      " F1-score:  0.7614856382176787\n"
     ]
    }
   ],
   "source": [
    "#let's predict\n",
    "y_svm = svm_cl.predict(X_test)\n",
    "print(\"SVM Model Accuracy: \",'\\n',\"Metrics Accuracy: \", metrics.accuracy_score(y_test, y_svm),'\\n','Jaccard Score: ', jaccard_score(y_test, y_svm,average=\"weighted\"),'\\n','F1-score: ',f1_score(y_test, y_svm,average=\"weighted\"))\n",
    "# initialize list of lists \n",
    "df_score.loc[2] = ['SVM', jaccard_score(y_test,y_svm,average=\"weighted\"),f1_score(y_test,y_svm,average=\"weighted\"),'NA']"
   ]
  },
  {
   "cell_type": "markdown",
   "metadata": {},
   "source": [
    "#### 3.4 Logistic Regression"
   ]
  },
  {
   "cell_type": "code",
   "execution_count": 51,
   "metadata": {},
   "outputs": [
    {
     "name": "stdout",
     "output_type": "stream",
     "text": [
      "Logistic Regression's Train set Accuracy:  0.8342509749942647\n"
     ]
    }
   ],
   "source": [
    "lr = LogisticRegression(random_state=0)\n",
    "#let's do model fit \n",
    "lr.fit(X_train,y_train)\n",
    "print(\"Logistic Regression's Train set Accuracy: \", metrics.accuracy_score(y_train, lr.predict(X_train)))"
   ]
  },
  {
   "cell_type": "markdown",
   "metadata": {},
   "source": [
    "##### Logistic Regression Model Evaluation using Test set"
   ]
  },
  {
   "cell_type": "code",
   "execution_count": 52,
   "metadata": {},
   "outputs": [
    {
     "name": "stdout",
     "output_type": "stream",
     "text": [
      "Logistic Regression Model Accuracy:  \n",
      " Metrics Accuracy:  0.8361144642476745 \n",
      " Jaccard Score:  0.6990873973241758 \n",
      " F1-score:  0.7614856382176787 \n",
      " Log Loss:  0.48625105404152175\n"
     ]
    }
   ],
   "source": [
    "#let's predict\n",
    "y_logr = lr.predict(X_test)\n",
    "y_logr_prob = lr.predict_proba(X_test)\n",
    "print(\"Logistic Regression Model Accuracy: \",'\\n',\"Metrics Accuracy: \", metrics.accuracy_score(y_test, y_logr),'\\n','Jaccard Score: ', jaccard_score(y_test,y_logr,average=\"weighted\"),'\\n','F1-score: ',f1_score(y_test,y_logr,average=\"weighted\"),'\\n','Log Loss: ',log_loss(y_test,y_logr_prob))\n",
    "# add evaluation to lists \n",
    "df_score.loc[3] = ['Logistic Regression', jaccard_score(y_test,y_logr,average=\"weighted\"),f1_score(y_test,y_logr,average=\"weighted\"),log_loss(y_test,y_logr_prob)]"
   ]
  },
  {
   "cell_type": "markdown",
   "metadata": {},
   "source": [
    "#### 3.5 Report"
   ]
  },
  {
   "cell_type": "markdown",
   "metadata": {},
   "source": [
    "Now that we have completed building various models, let's summarize the accuracy of each model."
   ]
  },
  {
   "cell_type": "code",
   "execution_count": 53,
   "metadata": {},
   "outputs": [
    {
     "data": {
      "text/html": [
       "<div>\n",
       "<style scoped>\n",
       "    .dataframe tbody tr th:only-of-type {\n",
       "        vertical-align: middle;\n",
       "    }\n",
       "\n",
       "    .dataframe tbody tr th {\n",
       "        vertical-align: top;\n",
       "    }\n",
       "\n",
       "    .dataframe thead th {\n",
       "        text-align: right;\n",
       "    }\n",
       "</style>\n",
       "<table border=\"1\" class=\"dataframe\">\n",
       "  <thead>\n",
       "    <tr style=\"text-align: right;\">\n",
       "      <th></th>\n",
       "      <th>Algorithm</th>\n",
       "      <th>Jaccard</th>\n",
       "      <th>F1-score</th>\n",
       "      <th>LogLoss</th>\n",
       "    </tr>\n",
       "  </thead>\n",
       "  <tbody>\n",
       "    <tr>\n",
       "      <th>0</th>\n",
       "      <td>KNN</td>\n",
       "      <td>0.695031</td>\n",
       "      <td>0.762683</td>\n",
       "      <td>NA</td>\n",
       "    </tr>\n",
       "    <tr>\n",
       "      <th>1</th>\n",
       "      <td>Decision Tree</td>\n",
       "      <td>0.699087</td>\n",
       "      <td>0.761486</td>\n",
       "      <td>NA</td>\n",
       "    </tr>\n",
       "    <tr>\n",
       "      <th>2</th>\n",
       "      <td>SVM</td>\n",
       "      <td>0.699087</td>\n",
       "      <td>0.761486</td>\n",
       "      <td>NA</td>\n",
       "    </tr>\n",
       "    <tr>\n",
       "      <th>3</th>\n",
       "      <td>Logistic Regression</td>\n",
       "      <td>0.699087</td>\n",
       "      <td>0.761486</td>\n",
       "      <td>0.486251</td>\n",
       "    </tr>\n",
       "  </tbody>\n",
       "</table>\n",
       "</div>"
      ],
      "text/plain": [
       "             Algorithm   Jaccard  F1-score   LogLoss\n",
       "0                  KNN  0.695031  0.762683        NA\n",
       "1        Decision Tree  0.699087  0.761486        NA\n",
       "2                  SVM  0.699087  0.761486        NA\n",
       "3  Logistic Regression  0.699087  0.761486  0.486251"
      ]
     },
     "execution_count": 53,
     "metadata": {},
     "output_type": "execute_result"
    }
   ],
   "source": [
    "df_score.head()"
   ]
  },
  {
   "cell_type": "markdown",
   "metadata": {},
   "source": [
    "The model accuracy score for all the model are nearly the same. Hence whichever mode we select we can predict with an 83% accuracy score about the severity of accidents. "
   ]
  },
  {
   "cell_type": "markdown",
   "metadata": {},
   "source": [
    "### 4. Conclusion"
   ]
  },
  {
   "cell_type": "markdown",
   "metadata": {},
   "source": [
    "Let' summarize.\n",
    "\n",
    "1. In the last decade for Manchester there is a decrease trained in the number of accidents over the years. However, the total number of casualties due to fatal and serious injuries remain constant, and for severity type 'light', there is a decreasing trend.\n",
    "\n",
    "2. The month of June is the most unsafe and February is the safest month for Manchester. 'Fatal' accidents are high in May, 'Serious' accidents are high in June and 'Light', accidents are high in September.\n",
    "\n",
    "3. The number of casualties is higher on weekdays(60%) compare to weekends(40%). The highest number of casualties is on Friday(15%) and lowest on Sunday(13%). However, 'Fatal' casualties are high on Saturday, 'Serious' and 'Ligh casualties are high on 'Friday'. Overall the safest day for Manchester is Sunday and the unsafe day is on Friday.\n",
    "\n",
    "4. We also noticed that 'Fatal' casualties are high at midnight between 2 AM to 3 AM, 'Serious' casualties are high in the afternoon between 3 PM to 6 PM and 'Light' casualties are high in the evening between 5 PM to 9 PM. Overall casualties are high between 7 AM to 10 AM and later between 5 PM to 8 PM.\n",
    "\n",
    "5. With respect to road type and carriageway, 'Fatal', 'Serious', and 'Light' casualties are high in Single Carriageway followed by Dual Carriageway and Roundabout. With respect to Road Class, we observed 'Fatal', 'Serious', 'Light' casualties are significantly high in road Class B followed by unclassified carriageway. Casualties are significantly high in 'T or staggered junction' (41%) and where there is no junction control(54%) in place.\n",
    "\n",
    "6. Casualties are high in daylight(75%), compared to darkness. casualties are significantly high where the speed limit is 30 mph(80%) compare over 70 mph.\n",
    "\n",
    "7. Similarly, casualties are high in fine weather around 76%, compare to cases that occurred during rain (14%) or other adverse weather condition.\n",
    "\n",
    "8. We also observed casualties are high in males (56%) than females (44%). Similarly, casualties are high in the age group 26 to 45 around 33%. Overall casualties for drivers and passengers are 80% of the total compare to 20% for the pedestrian.\n",
    "\n",
    "9. Based on the above analysis, we have selected various features and build a supervised machine learning model. This model can  able to predict with 83% accuracy about the severity of accidents"
   ]
  },
  {
   "cell_type": "markdown",
   "metadata": {},
   "source": [
    "##### 4.1 Recommendation to target audience"
   ]
  },
  {
   "cell_type": "markdown",
   "metadata": {},
   "source": [
    "##### Visitors or Residence Self Driving in Manchester\n",
    "1. Please be careful while driving between 7 AM to 10 AM and later between 5 PM to 8 PM. There is a higher probability of accidents during this period.\n",
    "2. Fatal casualties are highest at the midnight between 2 AM to 3 AM, so please try to avoid driving in late-night or at least be extra careful during driving.\n",
    "3. Please be careful in T junction, and be extra alert in those junctions where there is no human or physical control in place.   \n",
    "        "
   ]
  },
  {
   "cell_type": "markdown",
   "metadata": {},
   "source": [
    "#### Rent a Car Companies or Insurance agencies"
   ]
  },
  {
   "cell_type": "markdown",
   "metadata": {},
   "source": [
    "1. Your customers might be complacent during fine weather or in the daytime and likely careless while driving or choosing an insurance product. But as we observed casualties are high in fine weather or daylight. So please advise your customer accordingly.\n",
    "\n",
    "2. Alternatively do not misguide or overcharged customers during bad weather or darkness. As we observed bad weather is a significantly less contributing factor for casualties.\n",
    "\n",
    "3. The age group between 26 to 45 is at high chances of getting into a fatal or serious casualty. Hence, please provide all the necessary help in educating the customer group between the ages of 26 to 45 about safe driving."
   ]
  },
  {
   "cell_type": "markdown",
   "metadata": {},
   "source": [
    "#### Government agencies "
   ]
  },
  {
   "cell_type": "markdown",
   "metadata": {},
   "source": [
    "1. We observed that single carriageways are more vulnerable for casualties, wherever possible identify those roads and place enough safety measures.\n",
    "\n",
    "2. Identify T junction where casualties are high and if possible install some physical or human control to minimize casualties.\n",
    "\n",
    "3. It seems people are not observing speed limit specific to places where it is 30 mph. If possible bring in more major in those places to minimize casualties."
   ]
  },
  {
   "cell_type": "markdown",
   "metadata": {},
   "source": [
    "#### 4.2 Further Study"
   ]
  },
  {
   "cell_type": "markdown",
   "metadata": {},
   "source": [
    "1. Further study is needed to map the Easting and Nothing coordinate to identify places that are contributing casualties.  \n",
    "\n",
    "2. Due to limitations on the dataset not able to find out how the negligence of drivers or pedestrians is factoring casualties. To solve it we may need to reach out to the city authority to provide details about the same."
   ]
  },
  {
   "cell_type": "markdown",
   "metadata": {},
   "source": [
    "### 5. References and Appendix"
   ]
  },
  {
   "cell_type": "markdown",
   "metadata": {},
   "source": [
    "[Coursera](https://www.coursera.org) \n",
    "\n",
    "[Similar Study](https://www.kaggle.com/phip2014/ml-to-predict-accident-severity-pa-mont)\n",
    "\n",
    "[Other blog on driving in UK](https://www.visitbritainshop.com/world/articles/guide-to-driving-in-the-uk/)\n",
    "\n",
    "[UK Road Classification](https://www.eastriding.gov.uk/environment/roads-streets-traffic-and-parking/roads-pavements-and-traffic/classification-of-roads/#primary-route-network)\n"
   ]
  }
 ],
 "metadata": {
  "kernelspec": {
   "display_name": "Python 3",
   "language": "python",
   "name": "python3"
  },
  "language_info": {
   "codemirror_mode": {
    "name": "ipython",
    "version": 3
   },
   "file_extension": ".py",
   "mimetype": "text/x-python",
   "name": "python",
   "nbconvert_exporter": "python",
   "pygments_lexer": "ipython3",
   "version": "3.8.3"
  }
 },
 "nbformat": 4,
 "nbformat_minor": 1
}
